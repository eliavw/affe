{
 "cells": [
  {
   "cell_type": "markdown",
   "metadata": {
    "Collapsed": "false"
   },
   "source": [
    "# Composite Executors\n",
    "\n",
    "Executors that execute more than one flow."
   ]
  },
  {
   "cell_type": "markdown",
   "metadata": {
    "Collapsed": "false"
   },
   "source": [
    "# Preliminaries"
   ]
  },
  {
   "cell_type": "code",
   "execution_count": 1,
   "metadata": {
    "Collapsed": "false"
   },
   "outputs": [],
   "source": [
    "# Black Codeformatter\n",
    "%load_ext lab_black"
   ]
  },
  {
   "cell_type": "markdown",
   "metadata": {
    "Collapsed": "false"
   },
   "source": [
    "## Imports"
   ]
  },
  {
   "cell_type": "code",
   "execution_count": 2,
   "metadata": {
    "Collapsed": "false"
   },
   "outputs": [],
   "source": [
    "import numpy as np\n",
    "import pandas as pd\n",
    "import os"
   ]
  },
  {
   "cell_type": "code",
   "execution_count": 3,
   "metadata": {
    "Collapsed": "false"
   },
   "outputs": [],
   "source": [
    "from affe.execs import CompositeExecutor"
   ]
  },
  {
   "cell_type": "markdown",
   "metadata": {
    "Collapsed": "false"
   },
   "source": [
    "# Implementation\n",
    "\n",
    "This is where functions and classes are implemented."
   ]
  },
  {
   "cell_type": "code",
   "execution_count": null,
   "metadata": {
    "Collapsed": "false"
   },
   "outputs": [],
   "source": []
  },
  {
   "cell_type": "code",
   "execution_count": null,
   "metadata": {
    "Collapsed": "false"
   },
   "outputs": [],
   "source": []
  },
  {
   "cell_type": "markdown",
   "metadata": {
    "Collapsed": "false"
   },
   "source": [
    "# Sandbox\n",
    "\n",
    "This is where functions and classes are tested."
   ]
  },
  {
   "cell_type": "markdown",
   "metadata": {
    "Collapsed": "false"
   },
   "source": [
    "## Flow\n",
    "\n",
    "Just making some easy flows to test my stuff."
   ]
  },
  {
   "cell_type": "code",
   "execution_count": null,
   "metadata": {
    "Collapsed": "false"
   },
   "outputs": [],
   "source": [
    "def dummy_imports():\n",
    "    import affe\n",
    "    from affe.io import (\n",
    "        mimic_fs,\n",
    "        tree_path,\n",
    "        get_root_directory,\n",
    "        get_flow_directory,\n",
    "        abspath,\n",
    "        get_children,\n",
    "        get_children_paths,\n",
    "        get_subtree,\n",
    "        rename_directory,\n",
    "        insert_subdirectory,\n",
    "        get_code_string,\n",
    "        get_filename,\n",
    "        get_filepath,\n",
    "        dump_object,\n",
    "        check_existence_of_directory,\n",
    "    )\n",
    "\n",
    "    from affe.utils import flatten_dict, keychain\n",
    "\n",
    "    import time\n",
    "\n",
    "    print(\"Imports succesful\")\n",
    "\n",
    "    return\n",
    "\n",
    "\n",
    "def dummy_flow(config):\n",
    "    print(\"Hello world\")\n",
    "\n",
    "    fs = config.get(\"io\").get(\"fs\")\n",
    "    results_directory_key = \"out.flow.results\"\n",
    "\n",
    "    fn_results = abspath(fs, results_directory_key, filename=\"demo.json\")\n",
    "\n",
    "    check_existence_of_directory(fs, results_directory_key)\n",
    "\n",
    "    results = dict(elia=\"cool\")\n",
    "\n",
    "    dump_object(results, fn_results)\n",
    "\n",
    "    sleep_a_few_s = 2\n",
    "    time.sleep(sleep_a_few_s)\n",
    "    print(\"{} secs passed\".format(sleep_a_few_s))\n",
    "\n",
    "    return True"
   ]
  }
 ],
 "metadata": {
  "kernelspec": {
   "display_name": "affe",
   "language": "python",
   "name": "affe"
  },
  "language_info": {
   "codemirror_mode": {
    "name": "ipython",
    "version": 3
   },
   "file_extension": ".py",
   "mimetype": "text/x-python",
   "name": "python",
   "nbconvert_exporter": "python",
   "pygments_lexer": "ipython3",
   "version": "3.8.1"
  },
  "toc-autonumbering": true
 },
 "nbformat": 4,
 "nbformat_minor": 4
}
