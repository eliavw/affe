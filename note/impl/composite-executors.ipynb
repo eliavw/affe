{
 "cells": [
  {
   "cell_type": "markdown",
   "metadata": {
    "Collapsed": "false"
   },
   "source": [
    "# Composite Executors\n",
    "\n",
    "Executors that execute more than one flow."
   ]
  },
  {
   "cell_type": "markdown",
   "metadata": {
    "Collapsed": "false"
   },
   "source": [
    "# Preliminaries"
   ]
  },
  {
   "cell_type": "code",
   "execution_count": 1,
   "metadata": {
    "Collapsed": "false"
   },
   "outputs": [],
   "source": [
    "# Black Codeformatter\n",
    "%load_ext lab_black"
   ]
  },
  {
   "cell_type": "markdown",
   "metadata": {
    "Collapsed": "false"
   },
   "source": [
    "## Imports"
   ]
  },
  {
   "cell_type": "code",
   "execution_count": 2,
   "metadata": {
    "Collapsed": "false"
   },
   "outputs": [],
   "source": [
    "import numpy as np\n",
    "import pandas as pd\n",
    "import os"
   ]
  },
  {
   "cell_type": "code",
   "execution_count": 3,
   "metadata": {
    "Collapsed": "false"
   },
   "outputs": [],
   "source": [
    "from affe.execs import CompositeExecutor"
   ]
  },
  {
   "cell_type": "markdown",
   "metadata": {
    "Collapsed": "false"
   },
   "source": [
    "# Implementation\n",
    "\n",
    "This is where functions and classes are implemented."
   ]
  },
  {
   "cell_type": "markdown",
   "metadata": {
    "Collapsed": "false"
   },
   "source": [
    "## Generate demo Flows"
   ]
  },
  {
   "cell_type": "code",
   "execution_count": 4,
   "metadata": {
    "Collapsed": "false"
   },
   "outputs": [],
   "source": [
    "import time\n",
    "\n",
    "import affe\n",
    "from affe.io import (\n",
    "    get_root_directory,\n",
    "    get_flow_directory,\n",
    "    insert_subdirectory,\n",
    "    abspath,\n",
    "    check_existence_of_directory,\n",
    "    dump_object,\n",
    ")\n",
    "\n",
    "from affe.flow import Flow"
   ]
  },
  {
   "cell_type": "code",
   "execution_count": 5,
   "metadata": {
    "Collapsed": "false"
   },
   "outputs": [
    {
     "data": {
      "text/plain": [
       "{'root': '/home/zissou/repos/affe',\n",
       " 'cli': 'root',\n",
       " 'data': 'root',\n",
       " 'out': 'root',\n",
       " 'scripts': 'root',\n",
       " 'out.flow.config': 'out.flow',\n",
       " 'out.flow.logs': 'out.flow',\n",
       " 'out.flow.results': 'out.flow',\n",
       " 'out.flow.timings': 'out.flow',\n",
       " 'out.flow.tmp': 'out.flow',\n",
       " 'out.flow.flows': 'out.flow',\n",
       " 'out.flow': 'out'}"
      ]
     },
     "execution_count": 5,
     "metadata": {},
     "output_type": "execute_result"
    }
   ],
   "source": [
    "root_dir = get_root_directory()\n",
    "exp_dir = get_flow_directory(keyword=\"flow\")\n",
    "root_dir, exp_dir\n",
    "\n",
    "fs = insert_subdirectory(root_dir, parent=\"out\", child=exp_dir,)\n",
    "fs"
   ]
  },
  {
   "cell_type": "code",
   "execution_count": 6,
   "metadata": {
    "Collapsed": "false"
   },
   "outputs": [],
   "source": [
    "def get_dummy_fs():\n",
    "    root_dir = get_root_directory()\n",
    "    flow_dir = get_flow_directory(keyword=\"flow\")\n",
    "\n",
    "    dummy_fs = insert_subdirectory(root_dir, parent=\"out\", child=flow_dir,)\n",
    "    return dummy_fs\n",
    "\n",
    "\n",
    "def get_dummy_config(message=\"hi\", content=dict(a=3, b=4)):\n",
    "    dummy_fs = get_dummy_fs()\n",
    "    return dict(io=dict(fs=dummy_fs), message=message, content=content)\n",
    "\n",
    "\n",
    "def dummy_imports():\n",
    "    import time\n",
    "    import affe\n",
    "    from affe.io import (\n",
    "        get_root_directory,\n",
    "        get_flow_directory,\n",
    "        insert_subdirectory,\n",
    "        abspath,\n",
    "        check_existence_of_directory,\n",
    "        dump_object,\n",
    "    )\n",
    "\n",
    "    print(\"Imports succesful\")\n",
    "\n",
    "    return\n",
    "\n",
    "\n",
    "def dummy_flow(config):\n",
    "    print(\"Hello world\")\n",
    "\n",
    "    fs = config.get(\"io\").get(\"fs\")\n",
    "    content = config.get(\"content\")\n",
    "    message = config.get(\"message\")\n",
    "\n",
    "    results_directory_key = \"out.flow.results\"\n",
    "    check_existence_of_directory(fs, results_directory_key)\n",
    "    fn_results = abspath(fs, results_directory_key, filename=\"{}.json\".format(message))\n",
    "\n",
    "    results = content\n",
    "\n",
    "    dump_object(results, fn_results)\n",
    "\n",
    "    # Some extra actions\n",
    "    sleep_a_few_s = 2\n",
    "    time.sleep(sleep_a_few_s)\n",
    "    print(\"{} secs passed\".format(sleep_a_few_s))\n",
    "    print(message)\n",
    "\n",
    "    return True\n",
    "\n",
    "\n",
    "def get_dummy_flow(message=\"hi\", content=dict(a=1, b=2), timeout_s=20):\n",
    "    # config\n",
    "    dummy_config = get_dummy_config(message=message, content=content)\n",
    "    dummy_fs = dummy_config.get(\"io\").get(\"fs\")\n",
    "\n",
    "    # flow-object\n",
    "    logs_directory_key = \"out.flow.logs\"\n",
    "    check_existence_of_directory(dummy_fs, logs_directory_key)\n",
    "    log_filepath = abspath(dummy_fs, logs_directory_key, \"logfile\")\n",
    "\n",
    "    f = Flow(\n",
    "        config=dummy_config,\n",
    "        imports=dummy_imports,\n",
    "        flow=dummy_flow,\n",
    "        timeout_s=timeout_s,\n",
    "        log_filepath=log_filepath,\n",
    "    )\n",
    "    return f"
   ]
  },
  {
   "cell_type": "code",
   "execution_count": 7,
   "metadata": {
    "Collapsed": "false"
   },
   "outputs": [],
   "source": [
    "flows = [get_dummy_flow(message=\"hi\" * (i + 1)) for i in range(3)]"
   ]
  },
  {
   "cell_type": "code",
   "execution_count": 8,
   "metadata": {
    "Collapsed": "false"
   },
   "outputs": [
    {
     "name": "stdout",
     "output_type": "stream",
     "text": [
      "Hello world\n",
      "2 secs passed\n",
      "hi\n",
      "Hello world\n",
      "2 secs passed\n",
      "hihi\n",
      "Hello world\n",
      "2 secs passed\n",
      "hihihi\n"
     ]
    }
   ],
   "source": [
    "for f in flows:\n",
    "    f.run()"
   ]
  },
  {
   "cell_type": "code",
   "execution_count": null,
   "metadata": {
    "Collapsed": "false"
   },
   "outputs": [],
   "source": []
  },
  {
   "cell_type": "code",
   "execution_count": null,
   "metadata": {
    "Collapsed": "false"
   },
   "outputs": [],
   "source": []
  },
  {
   "cell_type": "code",
   "execution_count": null,
   "metadata": {
    "Collapsed": "false"
   },
   "outputs": [],
   "source": []
  },
  {
   "cell_type": "code",
   "execution_count": null,
   "metadata": {
    "Collapsed": "false"
   },
   "outputs": [],
   "source": []
  },
  {
   "cell_type": "code",
   "execution_count": null,
   "metadata": {
    "Collapsed": "false"
   },
   "outputs": [],
   "source": []
  },
  {
   "cell_type": "code",
   "execution_count": null,
   "metadata": {
    "Collapsed": "false"
   },
   "outputs": [],
   "source": []
  },
  {
   "cell_type": "code",
   "execution_count": null,
   "metadata": {
    "Collapsed": "false"
   },
   "outputs": [],
   "source": []
  },
  {
   "cell_type": "code",
   "execution_count": null,
   "metadata": {
    "Collapsed": "false"
   },
   "outputs": [],
   "source": []
  },
  {
   "cell_type": "markdown",
   "metadata": {
    "Collapsed": "false"
   },
   "source": [
    "# Sandbox\n",
    "\n",
    "This is where functions and classes are tested."
   ]
  },
  {
   "cell_type": "markdown",
   "metadata": {
    "Collapsed": "false"
   },
   "source": [
    "## Flow\n",
    "\n",
    "Just making some easy flows to test my stuff."
   ]
  },
  {
   "cell_type": "code",
   "execution_count": null,
   "metadata": {
    "Collapsed": "false"
   },
   "outputs": [],
   "source": []
  },
  {
   "cell_type": "code",
   "execution_count": null,
   "metadata": {
    "Collapsed": "false"
   },
   "outputs": [],
   "source": []
  }
 ],
 "metadata": {
  "kernelspec": {
   "display_name": "affe",
   "language": "python",
   "name": "affe"
  },
  "language_info": {
   "codemirror_mode": {
    "name": "ipython",
    "version": 3
   },
   "file_extension": ".py",
   "mimetype": "text/x-python",
   "name": "python",
   "nbconvert_exporter": "python",
   "pygments_lexer": "ipython3",
   "version": "3.8.1"
  },
  "toc-autonumbering": true
 },
 "nbformat": 4,
 "nbformat_minor": 4
}
