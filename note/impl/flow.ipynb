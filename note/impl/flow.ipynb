{
 "cells": [
  {
   "cell_type": "markdown",
   "metadata": {
    "Collapsed": "false"
   },
   "source": [
    "# Flow\n",
    "\n",
    "A workflow object. Manages its own logging and execution or cna be passed on to a scheduler that can take care."
   ]
  },
  {
   "cell_type": "markdown",
   "metadata": {
    "Collapsed": "true"
   },
   "source": [
    "# Prelims"
   ]
  },
  {
   "cell_type": "code",
   "execution_count": 1,
   "metadata": {
    "Collapsed": "false"
   },
   "outputs": [],
   "source": [
    "# Black Codeformatter\n",
    "%load_ext lab_black"
   ]
  },
  {
   "cell_type": "markdown",
   "metadata": {
    "Collapsed": "false"
   },
   "source": [
    "## Imports"
   ]
  },
  {
   "cell_type": "code",
   "execution_count": 2,
   "metadata": {
    "Collapsed": "false"
   },
   "outputs": [],
   "source": [
    "import time\n",
    "\n",
    "import affe\n",
    "from affe.io import (\n",
    "    mimic_fs,\n",
    "    tree_path,\n",
    "    get_root_directory,\n",
    "    get_flow_directory,\n",
    "    abspath,\n",
    "    get_children,\n",
    "    get_children_paths,\n",
    "    get_subtree,\n",
    "    rename_directory,\n",
    "    insert_subdirectory,\n",
    "    get_code_string,\n",
    "    get_filename,\n",
    "    get_filepath,\n",
    "    dump_object,\n",
    "    check_existence_of_directory,\n",
    ")\n",
    "\n",
    "from affe.utils import flatten_dict, keychain"
   ]
  },
  {
   "cell_type": "markdown",
   "metadata": {
    "Collapsed": "false"
   },
   "source": [
    "# Basic Idea"
   ]
  },
  {
   "cell_type": "markdown",
   "metadata": {
    "Collapsed": "false"
   },
   "source": [
    "## Implementation"
   ]
  },
  {
   "cell_type": "code",
   "execution_count": 3,
   "metadata": {
    "Collapsed": "false"
   },
   "outputs": [],
   "source": [
    "from affe.flow import Flow, load_flow"
   ]
  },
  {
   "cell_type": "markdown",
   "metadata": {
    "Collapsed": "false"
   },
   "source": [
    "## Test"
   ]
  },
  {
   "cell_type": "code",
   "execution_count": 4,
   "metadata": {
    "Collapsed": "false"
   },
   "outputs": [
    {
     "data": {
      "text/plain": [
       "{'root': '/home/zissou/repos/affe',\n",
       " 'cli': 'root',\n",
       " 'data': 'root',\n",
       " 'out': 'root',\n",
       " 'scripts': 'root',\n",
       " 'out.flow.config': 'out.flow',\n",
       " 'out.flow.logs': 'out.flow',\n",
       " 'out.flow.results': 'out.flow',\n",
       " 'out.flow.timings': 'out.flow',\n",
       " 'out.flow.tmp': 'out.flow',\n",
       " 'out.flow': 'out'}"
      ]
     },
     "execution_count": 4,
     "metadata": {},
     "output_type": "execute_result"
    }
   ],
   "source": [
    "root_dir = get_root_directory()\n",
    "exp_dir = get_flow_directory(keyword=\"flow\")\n",
    "root_dir, exp_dir\n",
    "\n",
    "my_fs = insert_subdirectory(root_dir, parent=\"out\", child=exp_dir,)\n",
    "my_fs"
   ]
  },
  {
   "cell_type": "code",
   "execution_count": 5,
   "metadata": {
    "Collapsed": "false"
   },
   "outputs": [
    {
     "data": {
      "text/plain": [
       "{'io': {'fs': {'root': '/home/zissou/repos/affe',\n",
       "   'cli': 'root',\n",
       "   'data': 'root',\n",
       "   'out': 'root',\n",
       "   'scripts': 'root',\n",
       "   'out.flow.config': 'out.flow',\n",
       "   'out.flow.logs': 'out.flow',\n",
       "   'out.flow.results': 'out.flow',\n",
       "   'out.flow.timings': 'out.flow',\n",
       "   'out.flow.tmp': 'out.flow',\n",
       "   'out.flow': 'out'}}}"
      ]
     },
     "execution_count": 5,
     "metadata": {},
     "output_type": "execute_result"
    }
   ],
   "source": [
    "dummy_config = dict(io=dict(fs=my_fs))\n",
    "dummy_config"
   ]
  },
  {
   "cell_type": "code",
   "execution_count": 6,
   "metadata": {
    "Collapsed": "false"
   },
   "outputs": [],
   "source": [
    "def dummy_imports():\n",
    "    import affe\n",
    "    from affe.io import (\n",
    "        mimic_fs,\n",
    "        tree_path,\n",
    "        get_root_directory,\n",
    "        get_flow_directory,\n",
    "        abspath,\n",
    "        get_children,\n",
    "        get_children_paths,\n",
    "        get_subtree,\n",
    "        rename_directory,\n",
    "        insert_subdirectory,\n",
    "        get_code_string,\n",
    "        get_filename,\n",
    "        get_filepath,\n",
    "        dump_object,\n",
    "        check_existence_of_directory,\n",
    "    )\n",
    "\n",
    "    from affe.utils import flatten_dict, keychain\n",
    "\n",
    "    import time\n",
    "\n",
    "    print(\"Imports succesful\")\n",
    "\n",
    "    return\n",
    "\n",
    "\n",
    "def dummy_flow(config):\n",
    "    print(\"Hello world\")\n",
    "\n",
    "    fs = config.get(\"io\").get(\"fs\")\n",
    "    results_directory_key = \"out.flow.results\"\n",
    "\n",
    "    fn_results = abspath(fs, results_directory_key, filename=\"demo.json\")\n",
    "\n",
    "    check_existence_of_directory(fs, results_directory_key)\n",
    "\n",
    "    results = dict(elia=\"cool\")\n",
    "\n",
    "    dump_object(results, fn_results)\n",
    "\n",
    "    sleep_a_few_s = 2\n",
    "    time.sleep(sleep_a_few_s)\n",
    "    print(\"{} secs passed\".format(sleep_a_few_s))\n",
    "\n",
    "    return True"
   ]
  },
  {
   "cell_type": "code",
   "execution_count": 7,
   "metadata": {
    "Collapsed": "false"
   },
   "outputs": [],
   "source": [
    "logs_directory_key = \"out.flow.logs\"\n",
    "log_filepath = abspath(my_fs, logs_directory_key, \"logfile\")\n",
    "check_existence_of_directory(my_fs, logs_directory_key)\n",
    "\n",
    "\n",
    "f = Flow(\n",
    "    config=dummy_config,\n",
    "    imports=dummy_imports,\n",
    "    flow=dummy_flow,\n",
    "    timeout_s=10,\n",
    "    log_filepath=log_filepath,\n",
    ")"
   ]
  },
  {
   "cell_type": "code",
   "execution_count": 8,
   "metadata": {
    "Collapsed": "false"
   },
   "outputs": [
    {
     "name": "stdout",
     "output_type": "stream",
     "text": [
      "Hello world\n",
      "2 secs passed\n"
     ]
    },
    {
     "data": {
      "text/plain": [
       "True"
      ]
     },
     "execution_count": 8,
     "metadata": {},
     "output_type": "execute_result"
    }
   ],
   "source": [
    "f.run()"
   ]
  },
  {
   "cell_type": "code",
   "execution_count": 9,
   "metadata": {
    "Collapsed": "false"
   },
   "outputs": [],
   "source": [
    "f.run_with_log()"
   ]
  },
  {
   "cell_type": "code",
   "execution_count": 10,
   "metadata": {
    "Collapsed": "false"
   },
   "outputs": [],
   "source": [
    "f.dump()"
   ]
  },
  {
   "cell_type": "code",
   "execution_count": 11,
   "metadata": {
    "Collapsed": "false"
   },
   "outputs": [
    {
     "data": {
      "text/plain": [
       "'flowfile.pkl'"
      ]
     },
     "execution_count": 11,
     "metadata": {},
     "output_type": "execute_result"
    }
   ],
   "source": [
    "flow_fn = f.flow_filepath\n",
    "flow_fn"
   ]
  },
  {
   "cell_type": "code",
   "execution_count": 12,
   "metadata": {
    "Collapsed": "false"
   },
   "outputs": [],
   "source": [
    "fl = load_flow(flow_fn)"
   ]
  },
  {
   "cell_type": "code",
   "execution_count": 13,
   "metadata": {
    "Collapsed": "false"
   },
   "outputs": [
    {
     "name": "stdout",
     "output_type": "stream",
     "text": [
      "Hello world\n",
      "2 secs passed\n"
     ]
    },
    {
     "data": {
      "text/plain": [
       "True"
      ]
     },
     "execution_count": 13,
     "metadata": {},
     "output_type": "execute_result"
    }
   ],
   "source": [
    "fl.run()"
   ]
  },
  {
   "cell_type": "code",
   "execution_count": 14,
   "metadata": {
    "Collapsed": "false"
   },
   "outputs": [
    {
     "name": "stdout",
     "output_type": "stream",
     "text": [
      "Imports succesful\n",
      "Hello world\n",
      "2 secs passed\n"
     ]
    }
   ],
   "source": [
    "fl.run_with_imports()"
   ]
  },
  {
   "cell_type": "code",
   "execution_count": 15,
   "metadata": {
    "Collapsed": "false"
   },
   "outputs": [],
   "source": [
    "fl.run_with_log()"
   ]
  },
  {
   "cell_type": "markdown",
   "metadata": {
    "Collapsed": "false"
   },
   "source": [
    "# Script\n",
    "\n",
    "A flow can output a bash command that will run itself. This involves dumping itself and running a standard script."
   ]
  },
  {
   "cell_type": "markdown",
   "metadata": {
    "Collapsed": "false"
   },
   "source": [
    "## Implementation"
   ]
  },
  {
   "cell_type": "code",
   "execution_count": 16,
   "metadata": {
    "Collapsed": "false"
   },
   "outputs": [],
   "source": [
    "from affe.cli import get_flow_cli"
   ]
  },
  {
   "cell_type": "code",
   "execution_count": 17,
   "metadata": {
    "Collapsed": "false"
   },
   "outputs": [
    {
     "data": {
      "text/plain": [
       "'/home/zissou/repos/affe/src/affe/cli/flow_cli.py'"
      ]
     },
     "execution_count": 17,
     "metadata": {},
     "output_type": "execute_result"
    }
   ],
   "source": [
    "script = get_flow_cli()\n",
    "script"
   ]
  },
  {
   "cell_type": "code",
   "execution_count": 18,
   "metadata": {
    "Collapsed": "false"
   },
   "outputs": [
    {
     "data": {
      "text/plain": [
       "'../../src/affe/cli/flow_cli.py'"
      ]
     },
     "execution_count": 18,
     "metadata": {},
     "output_type": "execute_result"
    }
   ],
   "source": [
    "get_flow_cli(abs=False)"
   ]
  },
  {
   "cell_type": "code",
   "execution_count": 19,
   "metadata": {
    "Collapsed": "false"
   },
   "outputs": [
    {
     "data": {
      "text/plain": [
       "'flowfile.pkl'"
      ]
     },
     "execution_count": 19,
     "metadata": {},
     "output_type": "execute_result"
    }
   ],
   "source": [
    "flow_fn"
   ]
  },
  {
   "cell_type": "code",
   "execution_count": null,
   "metadata": {
    "Collapsed": "false"
   },
   "outputs": [],
   "source": []
  },
  {
   "cell_type": "code",
   "execution_count": null,
   "metadata": {
    "Collapsed": "false"
   },
   "outputs": [],
   "source": []
  },
  {
   "cell_type": "markdown",
   "metadata": {
    "Collapsed": "false"
   },
   "source": [
    "## Test"
   ]
  },
  {
   "cell_type": "code",
   "execution_count": 20,
   "metadata": {
    "Collapsed": "false"
   },
   "outputs": [
    {
     "data": {
      "text/plain": [
       "'/home/zissou/repos/affe/note/impl'"
      ]
     },
     "execution_count": 20,
     "metadata": {},
     "output_type": "execute_result"
    }
   ],
   "source": [
    "import os\n",
    "\n",
    "here = os.getcwd()\n",
    "here"
   ]
  },
  {
   "cell_type": "code",
   "execution_count": 21,
   "metadata": {
    "Collapsed": "false"
   },
   "outputs": [
    {
     "name": "stdout",
     "output_type": "stream",
     "text": [
      "/home/zissou/repos/affe/note/impl\n",
      "Imports succesful\n",
      "Hello world\n",
      "2 secs passed\n",
      "\n",
      "    I am running the general-purpose flow script.\n",
      "    \n",
      "\n"
     ]
    }
   ],
   "source": [
    "%%bash -s \"$here\" \"$script\" \"$flow_fn\"\n",
    "\n",
    "cd $1\n",
    "source activate affe\n",
    "pwd\n",
    "python $2 -f $3"
   ]
  },
  {
   "cell_type": "markdown",
   "metadata": {
    "Collapsed": "false"
   },
   "source": [
    "# Template Metaprogramming\n",
    "\n",
    "In order to be able to programmatically pass on the imports, some minor metaprogramming is necessary."
   ]
  },
  {
   "cell_type": "markdown",
   "metadata": {
    "Collapsed": "false"
   },
   "source": [
    "## Tests"
   ]
  },
  {
   "cell_type": "code",
   "execution_count": 22,
   "metadata": {
    "Collapsed": "false"
   },
   "outputs": [],
   "source": [
    "def dummy_imports():\n",
    "    import affe\n",
    "    from affe.io import (\n",
    "        mimic_fs,\n",
    "        tree_path,\n",
    "        get_root_directory,\n",
    "        get_flow_directory,\n",
    "        abspath,\n",
    "        get_children,\n",
    "        get_children_paths,\n",
    "        get_subtree,\n",
    "        rename_directory,\n",
    "        insert_subdirectory,\n",
    "        get_code_string,\n",
    "        get_filename,\n",
    "        get_filepath,\n",
    "        dump_object,\n",
    "        check_existence_of_directory,\n",
    "    )\n",
    "\n",
    "    from affe.utils import flatten_dict, keychain\n",
    "\n",
    "    import time\n",
    "\n",
    "    print(\"Imports succesful.\")\n",
    "\n",
    "    return\n",
    "\n",
    "\n",
    "def dummy_flow(config):\n",
    "    print(\"Hello world\")\n",
    "\n",
    "    fs = config.get(\"io\").get(\"fs\")\n",
    "    results_directory_key = \"out.flow.results\"\n",
    "\n",
    "    fn_results = abspath(fs, results_directory_key, filename=\"demo.json\")\n",
    "\n",
    "    check_existence_of_directory(fs, results_directory_key)\n",
    "\n",
    "    results = dict(elia=\"cool\", script=\"bigsucces\")\n",
    "\n",
    "    dump_object(results, fn_results)\n",
    "\n",
    "    sleep_a_few_s = 2\n",
    "    time.sleep(sleep_a_few_s)\n",
    "    print(\"{} secs passed\".format(sleep_a_few_s))\n",
    "\n",
    "    return True\n",
    "\n",
    "\n",
    "logs_directory_key = \"out.flow.logs\"\n",
    "log_filepath = abspath(my_fs, logs_directory_key, \"logfile-with-script\")\n",
    "check_existence_of_directory(my_fs, logs_directory_key)\n",
    "\n",
    "\n",
    "f2 = Flow(\n",
    "    config=dummy_config,\n",
    "    imports=dummy_imports,\n",
    "    flow=dummy_flow,\n",
    "    timeout_s=10,\n",
    "    log_filepath=log_filepath,\n",
    ")"
   ]
  },
  {
   "cell_type": "code",
   "execution_count": 23,
   "metadata": {
    "Collapsed": "false"
   },
   "outputs": [
    {
     "data": {
      "text/plain": [
       "'/home/zissou/repos/affe/out/flow/logs/logfile-with-script'"
      ]
     },
     "execution_count": 23,
     "metadata": {},
     "output_type": "execute_result"
    }
   ],
   "source": [
    "f2.log_filepath"
   ]
  },
  {
   "cell_type": "code",
   "execution_count": 24,
   "metadata": {
    "Collapsed": "false"
   },
   "outputs": [
    {
     "name": "stdout",
     "output_type": "stream",
     "text": [
      "Imports succesful.\n"
     ]
    }
   ],
   "source": [
    "f2.run_imports()"
   ]
  },
  {
   "cell_type": "markdown",
   "metadata": {
    "Collapsed": "false"
   },
   "source": [
    "amazing, lgtm"
   ]
  },
  {
   "cell_type": "code",
   "execution_count": 25,
   "metadata": {
    "Collapsed": "false"
   },
   "outputs": [],
   "source": [
    "f2.dump(\"yolo.pkl\")"
   ]
  },
  {
   "cell_type": "code",
   "execution_count": 26,
   "metadata": {
    "Collapsed": "false"
   },
   "outputs": [],
   "source": [
    "f3 = load_flow(\"yolo.pkl\")"
   ]
  },
  {
   "cell_type": "code",
   "execution_count": 27,
   "metadata": {
    "Collapsed": "false"
   },
   "outputs": [
    {
     "name": "stdout",
     "output_type": "stream",
     "text": [
      "Imports succesful.\n",
      "Hello world\n",
      "2 secs passed\n"
     ]
    }
   ],
   "source": [
    "f3.run_with_imports()"
   ]
  },
  {
   "cell_type": "code",
   "execution_count": 28,
   "metadata": {
    "Collapsed": "false"
   },
   "outputs": [
    {
     "data": {
      "text/plain": [
       "['/home/zissou/miniconda3/envs/affe/bin/python',\n",
       " '/home/zissou/repos/affe/src/affe/cli/flow_cli.py',\n",
       " '-f',\n",
       " 'yolo.pkl']"
      ]
     },
     "execution_count": 28,
     "metadata": {},
     "output_type": "execute_result"
    }
   ],
   "source": [
    "f3.get_cli_command()"
   ]
  },
  {
   "cell_type": "code",
   "execution_count": 29,
   "metadata": {
    "Collapsed": "false"
   },
   "outputs": [
    {
     "data": {
      "text/plain": [
       "'/home/zissou/miniconda3/envs/affe/bin/python'"
      ]
     },
     "execution_count": 29,
     "metadata": {},
     "output_type": "execute_result"
    }
   ],
   "source": [
    "import sys\n",
    "\n",
    "sys.executable"
   ]
  },
  {
   "cell_type": "code",
   "execution_count": 30,
   "metadata": {
    "Collapsed": "false"
   },
   "outputs": [],
   "source": [
    "f3.run_via_shell_with_log()"
   ]
  },
  {
   "cell_type": "code",
   "execution_count": 33,
   "metadata": {
    "Collapsed": "false"
   },
   "outputs": [
    {
     "name": "stdout",
     "output_type": "stream",
     "text": [
      "/home/zissou/miniconda3/envs/affe/bin/python /home/zissou/repos/affe/src/affe/cli/flow_cli_with_monitors.py -f yolo.pkl -l /home/zissou/repos/affe/out/flow/logs/logfile-with-script -t 10\n"
     ]
    }
   ],
   "source": [
    "c = f3.get_cli_command_with_logs(return_list=False)\n",
    "print(c)"
   ]
  },
  {
   "cell_type": "code",
   "execution_count": 37,
   "metadata": {
    "Collapsed": "false"
   },
   "outputs": [
    {
     "name": "stdout",
     "output_type": "stream",
     "text": [
      "\n",
      "    Done running the general-purpose monitored flow script.\n",
      "    \n",
      "\n"
     ]
    }
   ],
   "source": [
    "%%bash -s \"$here\" \"$c\"\n",
    "\n",
    "$2"
   ]
  },
  {
   "cell_type": "code",
   "execution_count": 32,
   "metadata": {
    "Collapsed": "false"
   },
   "outputs": [
    {
     "name": "stderr",
     "output_type": "stream",
     "text": [
      "ERROR:root:No traceback has been produced, nothing to debug.\n"
     ]
    }
   ],
   "source": [
    "%debug"
   ]
  },
  {
   "cell_type": "code",
   "execution_count": null,
   "metadata": {
    "Collapsed": "false"
   },
   "outputs": [],
   "source": []
  },
  {
   "cell_type": "code",
   "execution_count": null,
   "metadata": {
    "Collapsed": "false"
   },
   "outputs": [],
   "source": []
  }
 ],
 "metadata": {
  "kernelspec": {
   "display_name": "affe",
   "language": "python",
   "name": "affe"
  },
  "language_info": {
   "codemirror_mode": {
    "name": "ipython",
    "version": 3
   },
   "file_extension": ".py",
   "mimetype": "text/x-python",
   "name": "python",
   "nbconvert_exporter": "python",
   "pygments_lexer": "ipython3",
   "version": "3.8.1"
  }
 },
 "nbformat": 4,
 "nbformat_minor": 4
}
