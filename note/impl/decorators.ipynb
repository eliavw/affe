{
 "cells": [
  {
   "cell_type": "markdown",
   "metadata": {
    "Collapsed": "false"
   },
   "source": [
    "# Decorator Tryouts\n",
    "\n",
    "Trying out a fancy decorator use. It can possibly make the composite executors much more elegant."
   ]
  },
  {
   "cell_type": "code",
   "execution_count": 8,
   "metadata": {
    "Collapsed": "false"
   },
   "outputs": [],
   "source": [
    "class Car(object):\n",
    "    def __init__(self, hp, sound='vroom', age=1):\n",
    "        self.hp = hp\n",
    "        self.sound = sound\n",
    "        self.age = age\n",
    "        return\n",
    "    \n",
    "    def get_hp(self):\n",
    "        return self.hp\n",
    "    \n",
    "    def start(self):\n",
    "        return self.sound*self.age"
   ]
  },
  {
   "cell_type": "code",
   "execution_count": 10,
   "metadata": {
    "Collapsed": "false"
   },
   "outputs": [],
   "source": [
    "mazda = Car(100, age=1)\n",
    "bmw = Car(1000, age=2)"
   ]
  },
  {
   "cell_type": "code",
   "execution_count": 11,
   "metadata": {
    "Collapsed": "false"
   },
   "outputs": [
    {
     "data": {
      "text/plain": [
       "'vroomvroom'"
      ]
     },
     "execution_count": 11,
     "metadata": {},
     "output_type": "execute_result"
    }
   ],
   "source": [
    "bmw.start()"
   ]
  },
  {
   "cell_type": "code",
   "execution_count": 13,
   "metadata": {
    "Collapsed": "false"
   },
   "outputs": [
    {
     "data": {
      "text/plain": [
       "'vroom'"
      ]
     },
     "execution_count": 13,
     "metadata": {},
     "output_type": "execute_result"
    }
   ],
   "source": [
    "mazda.start()"
   ]
  },
  {
   "cell_type": "code",
   "execution_count": 17,
   "metadata": {
    "Collapsed": "false"
   },
   "outputs": [],
   "source": [
    "class Cars(object):\n",
    "    def __init__(self, cars):\n",
    "        self.child_cars = cars\n",
    "        return\n",
    "    \n",
    "    def start(self):\n",
    "        return\n",
    "    \n",
    "    from functools import wraps\n",
    "    def decorator_name(f):\n",
    "        @wraps(f)\n",
    "        def decorated(*args, **kwargs):\n",
    "            if not can_run:\n",
    "                return \"Function will not run\"\n",
    "            return f(*args, **kwargs)\n",
    "        return decorated"
   ]
  },
  {
   "cell_type": "code",
   "execution_count": 18,
   "metadata": {
    "Collapsed": "false"
   },
   "outputs": [],
   "source": [
    "collection = Cars([mazda, bmw])"
   ]
  },
  {
   "cell_type": "code",
   "execution_count": 20,
   "metadata": {
    "Collapsed": "false"
   },
   "outputs": [
    {
     "data": {
      "text/plain": [
       "[<__main__.Car at 0x7f94d0714b20>, <__main__.Car at 0x7f94d0714130>]"
      ]
     },
     "execution_count": 20,
     "metadata": {},
     "output_type": "execute_result"
    }
   ],
   "source": [
    "collection.child_cars"
   ]
  },
  {
   "cell_type": "code",
   "execution_count": null,
   "metadata": {
    "Collapsed": "false"
   },
   "outputs": [],
   "source": []
  }
 ],
 "metadata": {
  "kernelspec": {
   "display_name": "affe",
   "language": "python",
   "name": "affe"
  },
  "language_info": {
   "codemirror_mode": {
    "name": "ipython",
    "version": 3
   },
   "file_extension": ".py",
   "mimetype": "text/x-python",
   "name": "python",
   "nbconvert_exporter": "python",
   "pygments_lexer": "ipython3",
   "version": "3.8.1"
  }
 },
 "nbformat": 4,
 "nbformat_minor": 4
}
