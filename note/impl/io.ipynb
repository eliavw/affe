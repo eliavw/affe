{
 "cells": [
  {
   "cell_type": "markdown",
   "metadata": {
    "Collapsed": "false"
   },
   "source": [
    "# IO\n",
    "\n",
    "Implementation of `AFFE`s `IO` module. A bunch of convenience scripts that models the filesystem of the directory containing the project. Modelling this in code allows for collecting configs and sending outputs to disk with ease."
   ]
  },
  {
   "cell_type": "markdown",
   "metadata": {
    "Collapsed": "false"
   },
   "source": [
    "# Preliminaries"
   ]
  },
  {
   "cell_type": "code",
   "execution_count": 1,
   "metadata": {
    "Collapsed": "false"
   },
   "outputs": [],
   "source": [
    "# Black Codeformatter\n",
    "%load_ext lab_black"
   ]
  },
  {
   "cell_type": "markdown",
   "metadata": {
    "Collapsed": "false"
   },
   "source": [
    "## Imports"
   ]
  },
  {
   "cell_type": "code",
   "execution_count": 2,
   "metadata": {
    "Collapsed": "false"
   },
   "outputs": [],
   "source": [
    "import numpy as np\n",
    "import pandas as pd\n",
    "import os\n",
    "\n",
    "from functools import partial"
   ]
  },
  {
   "cell_type": "code",
   "execution_count": 3,
   "metadata": {
    "Collapsed": "false"
   },
   "outputs": [],
   "source": [
    "import affe\n",
    "from affe.io import (\n",
    "    get_root_directory,\n",
    "    get_exp_directory,\n",
    "    _rename_directory,\n",
    "    abspath,\n",
    "    _insert_child_directory_in_parent_directory,\n",
    "    LABELS,\n",
    "    SEPARATOR,\n",
    "    DEFAULT_CHILDREN,\n",
    "    get_code_string,\n",
    "    get_filename,\n",
    "    get_filepath,\n",
    "    _directory,\n",
    "    _default_root,\n",
    ")"
   ]
  },
  {
   "cell_type": "markdown",
   "metadata": {
    "Collapsed": "true"
   },
   "source": [
    "# Implementation"
   ]
  },
  {
   "cell_type": "markdown",
   "metadata": {
    "Collapsed": "false"
   },
   "source": [
    "## Basic Filesystem Definitions"
   ]
  },
  {
   "cell_type": "markdown",
   "metadata": {
    "Collapsed": "false"
   },
   "source": [
    "All went into the module"
   ]
  },
  {
   "cell_type": "markdown",
   "metadata": {
    "Collapsed": "false"
   },
   "source": [
    "## Altering filesystem"
   ]
  },
  {
   "cell_type": "markdown",
   "metadata": {
    "Collapsed": "false"
   },
   "source": [
    "All went into the module"
   ]
  },
  {
   "cell_type": "markdown",
   "metadata": {
    "Collapsed": "false"
   },
   "source": [
    "## Filenames\n",
    "\n",
    "A bunch of conventions to name files programmatically. "
   ]
  },
  {
   "cell_type": "markdown",
   "metadata": {
    "Collapsed": "false"
   },
   "source": [
    "All went into the module"
   ]
  },
  {
   "cell_type": "markdown",
   "metadata": {
    "Collapsed": "false"
   },
   "source": [
    "## Mimic FS\n",
    "\n",
    "This can be very useful and in a sense is the ultimate flexibility"
   ]
  },
  {
   "cell_type": "markdown",
   "metadata": {
    "Collapsed": "false"
   },
   "source": [
    "moved to module"
   ]
  },
  {
   "cell_type": "code",
   "execution_count": 5,
   "metadata": {
    "Collapsed": "false"
   },
   "outputs": [],
   "source": []
  },
  {
   "cell_type": "code",
   "execution_count": null,
   "metadata": {
    "Collapsed": "false"
   },
   "outputs": [],
   "source": []
  },
  {
   "cell_type": "markdown",
   "metadata": {
    "Collapsed": "false"
   },
   "source": [
    "# Sandbox"
   ]
  },
  {
   "cell_type": "markdown",
   "metadata": {
    "Collapsed": "true"
   },
   "source": [
    "## Test Basic FS defs"
   ]
  },
  {
   "cell_type": "code",
   "execution_count": 6,
   "metadata": {
    "Collapsed": "false"
   },
   "outputs": [
    {
     "data": {
      "text/plain": [
       "({'root': '/cw/dtailocal/repos/affe',\n",
       "  'cli': 'root',\n",
       "  'data': 'root',\n",
       "  'out': 'root',\n",
       "  'scripts': 'root'},\n",
       " {'root': '/cw/dtailocal/repos/affe',\n",
       "  'config': 'root',\n",
       "  'logs': 'root',\n",
       "  'results': 'root',\n",
       "  'timings': 'root',\n",
       "  'tmp': 'root'})"
      ]
     },
     "execution_count": 6,
     "metadata": {},
     "output_type": "execute_result"
    }
   ],
   "source": [
    "root_dir = get_root_directory()\n",
    "exp_dir = get_exp_directory()\n",
    "root_dir, exp_dir"
   ]
  },
  {
   "cell_type": "code",
   "execution_count": 7,
   "metadata": {
    "Collapsed": "false"
   },
   "outputs": [],
   "source": [
    "root_dir[\"test\"] = \"cli\""
   ]
  },
  {
   "cell_type": "code",
   "execution_count": 8,
   "metadata": {
    "Collapsed": "false"
   },
   "outputs": [
    {
     "data": {
      "text/plain": [
       "'/cw/dtailocal/repos/affe'"
      ]
     },
     "execution_count": 8,
     "metadata": {},
     "output_type": "execute_result"
    }
   ],
   "source": [
    "abspath(root_dir, \"root\")"
   ]
  },
  {
   "cell_type": "code",
   "execution_count": 9,
   "metadata": {
    "Collapsed": "false"
   },
   "outputs": [
    {
     "data": {
      "text/plain": [
       "'/cw/dtailocal/repos/affe/cli/test'"
      ]
     },
     "execution_count": 9,
     "metadata": {},
     "output_type": "execute_result"
    }
   ],
   "source": [
    "abspath(root_dir, \"test\")"
   ]
  },
  {
   "cell_type": "markdown",
   "metadata": {
    "Collapsed": "false"
   },
   "source": [
    "## Test Altering FS"
   ]
  },
  {
   "cell_type": "code",
   "execution_count": 10,
   "metadata": {
    "Collapsed": "false"
   },
   "outputs": [
    {
     "data": {
      "text/plain": [
       "({'root': '/cw/dtailocal/repos/affe',\n",
       "  'cli': 'root',\n",
       "  'data': 'root',\n",
       "  'out': 'root',\n",
       "  'scripts': 'root'},\n",
       " {'root': '/cw/dtailocal/repos/affe',\n",
       "  'config': 'root',\n",
       "  'logs': 'root',\n",
       "  'results': 'root',\n",
       "  'timings': 'root',\n",
       "  'tmp': 'root'})"
      ]
     },
     "execution_count": 10,
     "metadata": {},
     "output_type": "execute_result"
    }
   ],
   "source": [
    "root_dir = get_root_directory()\n",
    "exp_dir = get_exp_directory()\n",
    "root_dir, exp_dir"
   ]
  },
  {
   "cell_type": "code",
   "execution_count": 11,
   "metadata": {
    "Collapsed": "false"
   },
   "outputs": [
    {
     "data": {
      "text/plain": [
       "{'config': 'exp',\n",
       " 'logs': 'exp',\n",
       " 'results': 'exp',\n",
       " 'timings': 'exp',\n",
       " 'tmp': 'exp',\n",
       " 'exp': '/cw/dtailocal/repos/affe'}"
      ]
     },
     "execution_count": 11,
     "metadata": {},
     "output_type": "execute_result"
    }
   ],
   "source": [
    "exp_dir_02 = _rename_directory(exp_dir, source=\"root\", target=\"exp\")\n",
    "exp_dir_02"
   ]
  },
  {
   "cell_type": "code",
   "execution_count": 12,
   "metadata": {
    "Collapsed": "false"
   },
   "outputs": [
    {
     "data": {
      "text/plain": [
       "'/cw/dtailocal/repos/affe/logs'"
      ]
     },
     "execution_count": 12,
     "metadata": {},
     "output_type": "execute_result"
    }
   ],
   "source": [
    "abspath(exp_dir_02, \"logs\")"
   ]
  },
  {
   "cell_type": "code",
   "execution_count": 13,
   "metadata": {
    "Collapsed": "false"
   },
   "outputs": [
    {
     "data": {
      "text/plain": [
       "{'config': 'exp',\n",
       " 'logs': 'exp',\n",
       " 'results': 'exp',\n",
       " 'timings': 'exp',\n",
       " 'tmp': 'exp',\n",
       " 'exp': 'out',\n",
       " 'root': '/cw/dtailocal/repos/affe',\n",
       " 'cli': 'root',\n",
       " 'data': 'root',\n",
       " 'out': 'root',\n",
       " 'scripts': 'root'}"
      ]
     },
     "execution_count": 13,
     "metadata": {},
     "output_type": "execute_result"
    }
   ],
   "source": [
    "merge_dir = _insert_child_directory_in_parent_directory(\n",
    "    exp_dir_02, root_dir, anchor=\"out\"\n",
    ")\n",
    "merge_dir"
   ]
  },
  {
   "cell_type": "code",
   "execution_count": 14,
   "metadata": {
    "Collapsed": "false"
   },
   "outputs": [
    {
     "data": {
      "text/plain": [
       "'/cw/dtailocal/repos/affe/out/exp/timings'"
      ]
     },
     "execution_count": 14,
     "metadata": {},
     "output_type": "execute_result"
    }
   ],
   "source": [
    "abspath(merge_dir, \"timings\")"
   ]
  },
  {
   "cell_type": "markdown",
   "metadata": {
    "Collapsed": "false"
   },
   "source": [
    "lgtm"
   ]
  },
  {
   "cell_type": "markdown",
   "metadata": {
    "Collapsed": "true"
   },
   "source": [
    "## Test Filenames"
   ]
  },
  {
   "cell_type": "code",
   "execution_count": 15,
   "metadata": {
    "Collapsed": "false"
   },
   "outputs": [
    {
     "data": {
      "text/plain": [
       "'q-0010'"
      ]
     },
     "execution_count": 15,
     "metadata": {},
     "output_type": "execute_result"
    }
   ],
   "source": [
    "get_code_string(idx=10, kind=\"query\")"
   ]
  },
  {
   "cell_type": "code",
   "execution_count": 16,
   "metadata": {
    "Collapsed": "false"
   },
   "outputs": [
    {
     "data": {
      "text/plain": [
       "'better-timings-new-q-0003-system-b.csv'"
      ]
     },
     "execution_count": 16,
     "metadata": {},
     "output_type": "execute_result"
    }
   ],
   "source": [
    "get_filename(\n",
    "    basename=[\"timings\", \"new\"],\n",
    "    prefix=[\"better\"],\n",
    "    suffix=\"system-b\",\n",
    "    extension=\"csv\",\n",
    "    idx=3,\n",
    "    kind=\"query\",\n",
    ")"
   ]
  },
  {
   "cell_type": "markdown",
   "metadata": {
    "Collapsed": "false"
   },
   "source": [
    "lgtm"
   ]
  },
  {
   "cell_type": "code",
   "execution_count": 17,
   "metadata": {
    "Collapsed": "false"
   },
   "outputs": [
    {
     "data": {
      "text/plain": [
       "'mercs.pkl'"
      ]
     },
     "execution_count": 17,
     "metadata": {},
     "output_type": "execute_result"
    }
   ],
   "source": [
    "model_fname = partial(get_filename, extension=\"pkl\")\n",
    "model_fname(\"mercs\")"
   ]
  },
  {
   "cell_type": "code",
   "execution_count": 18,
   "metadata": {
    "Collapsed": "false"
   },
   "outputs": [
    {
     "data": {
      "text/plain": [
       "{'config': 'exp',\n",
       " 'logs': 'exp',\n",
       " 'results': 'exp',\n",
       " 'timings': 'exp',\n",
       " 'tmp': 'exp',\n",
       " 'exp': 'out',\n",
       " 'root': '/cw/dtailocal/repos/affe',\n",
       " 'cli': 'root',\n",
       " 'data': 'root',\n",
       " 'out': 'root',\n",
       " 'scripts': 'root'}"
      ]
     },
     "execution_count": 18,
     "metadata": {},
     "output_type": "execute_result"
    }
   ],
   "source": [
    "merge_dir"
   ]
  },
  {
   "cell_type": "code",
   "execution_count": 19,
   "metadata": {
    "Collapsed": "false"
   },
   "outputs": [
    {
     "data": {
      "text/plain": [
       "'/cw/dtailocal/repos/affe/out/exp/results/results-e-0003.csv'"
      ]
     },
     "execution_count": 19,
     "metadata": {},
     "output_type": "execute_result"
    }
   ],
   "source": [
    "get_filepath(\n",
    "    basename=\"results\",\n",
    "    extension=\"csv\",\n",
    "    kind=\"experiment\",\n",
    "    idx=3,\n",
    "    tree=merge_dir,\n",
    "    node=\"results\",\n",
    ")"
   ]
  },
  {
   "cell_type": "code",
   "execution_count": 20,
   "metadata": {
    "Collapsed": "false"
   },
   "outputs": [],
   "source": [
    "# naming convention\n",
    "\n",
    "DEFAULT_NAMING_CONVENTION = dict(\n",
    "    model=partial(get_filepath, suffix=\"default\", extension=\"pkl\", node=\"model\"),\n",
    "    query=partial(get_filepath, suffix=\"default\", extension=\"npy\", node=\"query\"),\n",
    "    timings=partial(get_filepath, basename=\"timings\", extension=\"csv\", node=\"timings\"),\n",
    "    results=partial(get_filepath, basename=\"results\", extension=\"csv\", node=\"results\"),\n",
    "    logs=partial(get_filepath, basename=\"logs\", extension=\"\", node=\"logs\"),\n",
    ")\n",
    "\n",
    "nc = DEFAULT_NAMING_CONVENTION"
   ]
  },
  {
   "cell_type": "code",
   "execution_count": null,
   "metadata": {
    "Collapsed": "false"
   },
   "outputs": [],
   "source": []
  },
  {
   "cell_type": "code",
   "execution_count": 21,
   "metadata": {
    "Collapsed": "false"
   },
   "outputs": [],
   "source": [
    "def _get_default_directory_tree(root=None, root_levels_ip=2):\n",
    "    root_children = DEFAULT_CHILDREN[\"root\"]\n",
    "    root_directory_tree = _directory(\n",
    "        root=root, children=root_children, root_levels_up=root_levels_up\n",
    "    )\n",
    "\n",
    "    out_children = DEFAULT_CHILDREN[\"out\"]\n",
    "    out_directory_tree = _directory(\n",
    "        root=root, children=out_children, root_levels_up=root_levels_up\n",
    "    )\n",
    "\n",
    "    directory_tree = _insert_child_directory_in_parent_directory(\n",
    "        out_directory_tree, root_directory_tree, anchor=\"out\"\n",
    "    )\n",
    "\n",
    "    return"
   ]
  },
  {
   "cell_type": "code",
   "execution_count": null,
   "metadata": {
    "Collapsed": "false"
   },
   "outputs": [],
   "source": []
  },
  {
   "cell_type": "code",
   "execution_count": null,
   "metadata": {
    "Collapsed": "false"
   },
   "outputs": [],
   "source": []
  },
  {
   "cell_type": "markdown",
   "metadata": {
    "Collapsed": "false"
   },
   "source": [
    "## Mimic FS"
   ]
  },
  {
   "cell_type": "code",
   "execution_count": 22,
   "metadata": {
    "Collapsed": "false"
   },
   "outputs": [
    {
     "data": {
      "text/plain": [
       "{'root': '/cw/dtailocal/repos/affe',\n",
       " 'scripts': 'root',\n",
       " 'out': 'root',\n",
       " 'models': 'root',\n",
       " 'data': 'root',\n",
       " 'config': 'root'}"
      ]
     },
     "execution_count": 22,
     "metadata": {},
     "output_type": "execute_result"
    }
   ],
   "source": [
    "mimic_fs()"
   ]
  },
  {
   "cell_type": "markdown",
   "metadata": {
    "Collapsed": "false"
   },
   "source": [
    "# Notepad\n",
    "\n",
    "Random snippets and tryouts"
   ]
  },
  {
   "cell_type": "code",
   "execution_count": 23,
   "metadata": {
    "Collapsed": "false"
   },
   "outputs": [
    {
     "data": {
      "text/plain": [
       "'q-0010'"
      ]
     },
     "execution_count": 23,
     "metadata": {},
     "output_type": "execute_result"
    }
   ],
   "source": [
    "get_code_string(idx=10, kind=\"query\")"
   ]
  },
  {
   "cell_type": "code",
   "execution_count": null,
   "metadata": {
    "Collapsed": "false"
   },
   "outputs": [],
   "source": []
  }
 ],
 "metadata": {
  "kernelspec": {
   "display_name": "affe",
   "language": "python",
   "name": "affe"
  },
  "language_info": {
   "codemirror_mode": {
    "name": "ipython",
    "version": 3
   },
   "file_extension": ".py",
   "mimetype": "text/x-python",
   "name": "python",
   "nbconvert_exporter": "python",
   "pygments_lexer": "ipython3",
   "version": "3.8.1"
  },
  "toc-autonumbering": true
 },
 "nbformat": 4,
 "nbformat_minor": 4
}
