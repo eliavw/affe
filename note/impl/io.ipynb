{
 "cells": [
  {
   "cell_type": "markdown",
   "metadata": {
    "Collapsed": "false"
   },
   "source": [
    "# IO\n",
    "\n",
    "Implementation of `AFFE`s `IO` module. A bunch of convenience scripts that models the filesystem of the directory containing the project. Modelling this in code allows for collecting configs and sending outputs to disk with ease."
   ]
  },
  {
   "cell_type": "markdown",
   "metadata": {
    "Collapsed": "false"
   },
   "source": [
    "# Preliminaries"
   ]
  },
  {
   "cell_type": "code",
   "execution_count": 1,
   "metadata": {
    "Collapsed": "false"
   },
   "outputs": [
    {
     "data": {
      "text/plain": [
       "'/home/zissou/miniconda3/envs/affe/bin/python'"
      ]
     },
     "execution_count": 1,
     "metadata": {},
     "output_type": "execute_result"
    }
   ],
   "source": [
    "import sys\n",
    "sys.executable"
   ]
  },
  {
   "cell_type": "code",
   "execution_count": 2,
   "metadata": {
    "Collapsed": "false"
   },
   "outputs": [],
   "source": [
    "# Black Codeformatter\n",
    "%load_ext lab_black"
   ]
  },
  {
   "cell_type": "markdown",
   "metadata": {
    "Collapsed": "false"
   },
   "source": [
    "## Imports"
   ]
  },
  {
   "cell_type": "code",
   "execution_count": 3,
   "metadata": {
    "Collapsed": "false"
   },
   "outputs": [],
   "source": [
    "import numpy as np\n",
    "import pandas as pd\n",
    "import os\n",
    "\n",
    "from functools import partial\n",
    "\n",
    "from os.path import dirname"
   ]
  },
  {
   "cell_type": "code",
   "execution_count": 4,
   "metadata": {
    "Collapsed": "false"
   },
   "outputs": [],
   "source": [
    "import affe\n",
    "from affe.io import (\n",
    "    mimic_fs,\n",
    "    tree_path,\n",
    "    get_root_directory,\n",
    "    get_flow_directory,\n",
    "    abspath,\n",
    "    get_children,\n",
    "    get_children_paths,\n",
    "    get_subtree,\n",
    "    rename_directory,\n",
    "    insert_subdirectory,\n",
    "    get_code_string,\n",
    "    get_filename,\n",
    "    get_filepath,\n",
    ")\n",
    "\n",
    "from affe.utils import flatten_dict, keychain"
   ]
  },
  {
   "cell_type": "markdown",
   "metadata": {
    "Collapsed": "true"
   },
   "source": [
    "# Implementation"
   ]
  },
  {
   "cell_type": "markdown",
   "metadata": {
    "Collapsed": "false"
   },
   "source": [
    "## Basic Filesystem Definitions"
   ]
  },
  {
   "cell_type": "markdown",
   "metadata": {
    "Collapsed": "false"
   },
   "source": [
    "All went into the module"
   ]
  },
  {
   "cell_type": "markdown",
   "metadata": {
    "Collapsed": "false"
   },
   "source": [
    "## Altering filesystem"
   ]
  },
  {
   "cell_type": "markdown",
   "metadata": {
    "Collapsed": "false"
   },
   "source": [
    "All went into the module"
   ]
  },
  {
   "cell_type": "markdown",
   "metadata": {
    "Collapsed": "false"
   },
   "source": [
    "## Filenames\n",
    "\n",
    "A bunch of conventions to name files programmatically. "
   ]
  },
  {
   "cell_type": "markdown",
   "metadata": {
    "Collapsed": "false"
   },
   "source": [
    "All went into the module"
   ]
  },
  {
   "cell_type": "markdown",
   "metadata": {
    "Collapsed": "false"
   },
   "source": [
    "## Mimic FS\n",
    "\n",
    "This can be very useful and in a sense is the ultimate flexibility"
   ]
  },
  {
   "cell_type": "markdown",
   "metadata": {
    "Collapsed": "false"
   },
   "source": [
    "moved to module"
   ]
  },
  {
   "cell_type": "markdown",
   "metadata": {
    "Collapsed": "false"
   },
   "source": [
    "## Add new flow-specific folders to FS"
   ]
  },
  {
   "cell_type": "markdown",
   "metadata": {
    "Collapsed": "false"
   },
   "source": [
    "All to module"
   ]
  },
  {
   "cell_type": "markdown",
   "metadata": {
    "Collapsed": "true"
   },
   "source": [
    "# Subfolders-Implementation\n",
    "\n",
    "From now on, I write implementation and tests of one functionality in a single section. In that way, my code and tests remains closer together. I am too lazy to fix the entire notebook though.\n",
    "\n",
    "More tree functionality for easier getting to folders you care about."
   ]
  },
  {
   "cell_type": "markdown",
   "metadata": {
    "Collapsed": "false"
   },
   "source": [
    "## Implementation"
   ]
  },
  {
   "cell_type": "markdown",
   "metadata": {
    "Collapsed": "false"
   },
   "source": [
    "All went into module"
   ]
  },
  {
   "cell_type": "markdown",
   "metadata": {
    "Collapsed": "false"
   },
   "source": [
    "## Test"
   ]
  },
  {
   "cell_type": "code",
   "execution_count": 5,
   "metadata": {
    "Collapsed": "false"
   },
   "outputs": [
    {
     "name": "stdout",
     "output_type": "stream",
     "text": [
      "{'root': '/home/zissou/repos', 'vscode-workspaces': 'root', 'dotfiles': 'root', 'PxW.scripts': 'PxW', 'PxW.docs': 'PxW', 'PxW.note': 'PxW', 'PxW.models': 'PxW', 'PxW.config': 'PxW', 'PxW.site.assets': 'PxW.site', 'PxW.site.search': 'PxW.site', 'PxW.site': 'PxW', 'PxW.tests.unit': 'PxW.tests', 'PxW.tests.integration': 'PxW.tests', 'PxW.tests.data': 'PxW.tests', 'PxW.tests.models': 'PxW.tests', 'PxW.tests': 'PxW', 'PxW.data.step-01': 'PxW.data', 'PxW.data.raw': 'PxW.data', 'PxW.data': 'PxW', 'PxW.src.PxW': 'PxW.src', 'PxW.src.PxW.egg-info': 'PxW.src', 'PxW.src': 'PxW', 'PxW': 'root', 's3-2019.prod': 's3-2019', 's3-2019.docs': 's3-2019', 's3-2019.tests': 's3-2019', 's3-2019.cli': 's3-2019', 's3-2019.resc.data': 's3-2019.resc', 's3-2019.resc.config': 's3-2019.resc', 's3-2019.resc': 's3-2019', 's3-2019.note.figs': 's3-2019.note', 's3-2019.note': 's3-2019', 's3-2019.src.s3_2019': 's3-2019.src', 's3-2019.src': 's3-2019', 's3-2019': 'root', 'aleph.scripts': 'aleph', 'aleph.docs': 'aleph', 'aleph.models': 'aleph', 'aleph.config': 'aleph', 'aleph.tests.unit': 'aleph.tests', 'aleph.tests.integration': 'aleph.tests', 'aleph.tests.data': 'aleph.tests', 'aleph.tests.models': 'aleph.tests', 'aleph.tests': 'aleph', 'aleph.note.dev-01': 'aleph.note', 'aleph.note.tutorial': 'aleph.note', 'aleph.note.deploy': 'aleph.note', 'aleph.note': 'aleph', 'aleph.data.step-01': 'aleph.data', 'aleph.data.raw': 'aleph.data', 'aleph.data': 'aleph', 'aleph.src.aleph': 'aleph.src', 'aleph.src': 'aleph', 'aleph': 'root', 'python-weka-wrapper3-examples.note': 'python-weka-wrapper3-examples', 'python-weka-wrapper3-examples.src.wekaexamples': 'python-weka-wrapper3-examples.src', 'python-weka-wrapper3-examples.src': 'python-weka-wrapper3-examples', 'python-weka-wrapper3-examples': 'root', 'synthlog.examples.synthlog': 'synthlog.examples', 'synthlog.examples.problog': 'synthlog.examples', 'synthlog.examples': 'synthlog', 'synthlog.addin.SynthlogReactAddIn': 'synthlog.addin', 'synthlog.addin.Synthlog': 'synthlog.addin', 'synthlog.addin.SynthlogWebAddIn': 'synthlog.addin', 'synthlog.addin': 'synthlog', 'synthlog.data.titanic': 'synthlog.data', 'synthlog.data': 'synthlog', 'synthlog.test.predictors': 'synthlog.test', 'synthlog.test': 'synthlog', 'synthlog': 'root', 'Experimenter.docs': 'Experimenter', 'Experimenter.tests': 'Experimenter', 'Experimenter.example_runner': 'Experimenter', 'Experimenter.web.static': 'Experimenter.web', 'Experimenter.web': 'Experimenter', 'Experimenter.experimenter.remote': 'Experimenter.experimenter', 'Experimenter.experimenter': 'Experimenter', 'Experimenter': 'root', 'DEDT.dedt': 'DEDT', 'DEDT.out.benchmarks': 'DEDT.out', 'DEDT.out': 'DEDT', 'DEDT.notebooks.resc': 'DEDT.notebooks', 'DEDT.notebooks': 'DEDT', 'DEDT.tests.wannes_tests': 'DEDT.tests', 'DEDT.tests': 'DEDT', 'DEDT.visualisation.util': 'DEDT.visualisation', 'DEDT.visualisation': 'DEDT', 'DEDT.experiments.models': 'DEDT.experiments', 'DEDT.experiments': 'DEDT', 'DEDT.data.raw': 'DEDT.data', 'DEDT.data': 'DEDT', 'DEDT': 'root', 'sandboxes.scripts': 'sandboxes', 'sandboxes.docs': 'sandboxes', 'sandboxes.models': 'sandboxes', 'sandboxes.config': 'sandboxes', 'sandboxes.tests.unit': 'sandboxes.tests', 'sandboxes.tests.integration': 'sandboxes.tests', 'sandboxes.tests.data': 'sandboxes.tests', 'sandboxes.tests.models': 'sandboxes.tests', 'sandboxes.tests': 'sandboxes', 'sandboxes.note.missforest': 'sandboxes.note', 'sandboxes.note.dl85': 'sandboxes.note', 'sandboxes.note.tutorial': 'sandboxes.note', 'sandboxes.note.data': 'sandboxes.note', 'sandboxes.note.deploy': 'sandboxes.note', 'sandboxes.note': 'sandboxes', 'sandboxes.data.step-01': 'sandboxes.data', 'sandboxes.data.raw': 'sandboxes.data', 'sandboxes.data': 'sandboxes', 'sandboxes.src.sandboxes': 'sandboxes.src', 'sandboxes.src': 'sandboxes', 'sandboxes': 'root', 'synth-demo.scripts': 'synth-demo', 'synth-demo.docs': 'synth-demo', 'synth-demo.note': 'synth-demo', 'synth-demo.models': 'synth-demo', 'synth-demo.config': 'synth-demo', 'synth-demo.tests.unit': 'synth-demo.tests', 'synth-demo.tests.integration': 'synth-demo.tests', 'synth-demo.tests.data': 'synth-demo.tests', 'synth-demo.tests.models': 'synth-demo.tests', 'synth-demo.tests': 'synth-demo', 'synth-demo.data.step-01': 'synth-demo.data', 'synth-demo.data.raw': 'synth-demo.data', 'synth-demo.data': 'synth-demo', 'synth-demo.src.synth-demo': 'synth-demo.src', 'synth-demo.src': 'synth-demo', 'synth-demo': 'root', 'affe.scripts': 'affe', 'affe.docs': 'affe', 'affe.models': 'affe', 'affe.config': 'affe', 'affe.out.manual': 'affe.out', 'affe.out': 'affe', 'affe.tests.unit': 'affe.tests', 'affe.tests.integration': 'affe.tests', 'affe.tests.data': 'affe.tests', 'affe.tests.models': 'affe.tests', 'affe.tests': 'affe', 'affe.note.impl': 'affe.note', 'affe.note.tutorial': 'affe.note', 'affe.note.deploy': 'affe.note', 'affe.note': 'affe', 'affe.data.step-01': 'affe.data', 'affe.data.raw': 'affe.data', 'affe.data': 'affe', 'affe.src.affe.egg-info': 'affe.src', 'affe.src.affe': 'affe.src', 'affe.src': 'affe', 'affe': 'root'}\n"
     ]
    }
   ],
   "source": [
    "fs = mimic_fs(\n",
    "    root=dirname(dirname(dirname(os.getcwd()))), depth=2, exclude={\"AwesomeProject\"}\n",
    ")\n",
    "print(fs)"
   ]
  },
  {
   "cell_type": "code",
   "execution_count": 6,
   "metadata": {
    "Collapsed": "false"
   },
   "outputs": [
    {
     "data": {
      "text/plain": [
       "{}"
      ]
     },
     "execution_count": 6,
     "metadata": {},
     "output_type": "execute_result"
    }
   ],
   "source": [
    "get_children(fs, \"mercs-miss\")"
   ]
  },
  {
   "cell_type": "code",
   "execution_count": 7,
   "metadata": {
    "Collapsed": "false"
   },
   "outputs": [
    {
     "data": {
      "text/plain": [
       "{}"
      ]
     },
     "execution_count": 7,
     "metadata": {},
     "output_type": "execute_result"
    }
   ],
   "source": [
    "get_subtree(fs, \"mercs-miss\")"
   ]
  },
  {
   "cell_type": "code",
   "execution_count": 8,
   "metadata": {
    "Collapsed": "false"
   },
   "outputs": [
    {
     "data": {
      "text/plain": [
       "[]"
      ]
     },
     "execution_count": 8,
     "metadata": {},
     "output_type": "execute_result"
    }
   ],
   "source": [
    "get_children_paths(fs, \"mercs-miss\")"
   ]
  },
  {
   "cell_type": "code",
   "execution_count": 9,
   "metadata": {
    "Collapsed": "false"
   },
   "outputs": [
    {
     "data": {
      "text/plain": [
       "'root'"
      ]
     },
     "execution_count": 9,
     "metadata": {},
     "output_type": "execute_result"
    }
   ],
   "source": [
    "next(iter(fs.keys()))"
   ]
  },
  {
   "cell_type": "markdown",
   "metadata": {
    "Collapsed": "false"
   },
   "source": [
    "# Tests for some implementations\n",
    "\n",
    "Then I got smarter and wrote my tests under the thing I am developing at that moment. I am not going to throw away all the other code though, it makes for a good test. What I also need to do is to integrate this development flow further in my datascience-cookiecutter, this notebook should be run as an integration test on each change of codebase."
   ]
  },
  {
   "cell_type": "markdown",
   "metadata": {
    "Collapsed": "false"
   },
   "source": [
    "## Test Basic FS defs"
   ]
  },
  {
   "cell_type": "code",
   "execution_count": 10,
   "metadata": {
    "Collapsed": "false"
   },
   "outputs": [
    {
     "data": {
      "text/plain": [
       "({'root': '/home/zissou/repos/affe',\n",
       "  'cli': 'root',\n",
       "  'data': 'root',\n",
       "  'out': 'root',\n",
       "  'scripts': 'root'},\n",
       " {'root': 'manual',\n",
       "  'config': 'root',\n",
       "  'logs': 'root',\n",
       "  'results': 'root',\n",
       "  'timings': 'root',\n",
       "  'tmp': 'root'})"
      ]
     },
     "execution_count": 10,
     "metadata": {},
     "output_type": "execute_result"
    }
   ],
   "source": [
    "root_dir = get_root_directory()\n",
    "exp_dir = get_flow_directory()\n",
    "root_dir, exp_dir"
   ]
  },
  {
   "cell_type": "code",
   "execution_count": 11,
   "metadata": {
    "Collapsed": "false"
   },
   "outputs": [],
   "source": [
    "root_dir[\"test\"] = \"cli\""
   ]
  },
  {
   "cell_type": "code",
   "execution_count": 12,
   "metadata": {
    "Collapsed": "false"
   },
   "outputs": [
    {
     "data": {
      "text/plain": [
       "'/home/zissou/repos/affe'"
      ]
     },
     "execution_count": 12,
     "metadata": {},
     "output_type": "execute_result"
    }
   ],
   "source": [
    "abspath(root_dir, \"root\")"
   ]
  },
  {
   "cell_type": "code",
   "execution_count": 13,
   "metadata": {
    "Collapsed": "false"
   },
   "outputs": [
    {
     "data": {
      "text/plain": [
       "'/home/zissou/repos/affe/cli/test'"
      ]
     },
     "execution_count": 13,
     "metadata": {},
     "output_type": "execute_result"
    }
   ],
   "source": [
    "abspath(root_dir, \"test\")"
   ]
  },
  {
   "cell_type": "markdown",
   "metadata": {
    "Collapsed": "false"
   },
   "source": [
    "## Test Altering FS"
   ]
  },
  {
   "cell_type": "code",
   "execution_count": 14,
   "metadata": {
    "Collapsed": "false"
   },
   "outputs": [
    {
     "data": {
      "text/plain": [
       "({'root': '/home/zissou/repos/affe',\n",
       "  'cli': 'root',\n",
       "  'data': 'root',\n",
       "  'out': 'root',\n",
       "  'scripts': 'root'},\n",
       " {'root': 'flow',\n",
       "  'config': 'root',\n",
       "  'logs': 'root',\n",
       "  'results': 'root',\n",
       "  'timings': 'root',\n",
       "  'tmp': 'root'})"
      ]
     },
     "execution_count": 14,
     "metadata": {},
     "output_type": "execute_result"
    }
   ],
   "source": [
    "root_dir = get_root_directory()\n",
    "exp_dir = get_flow_directory(keyword=\"flow\")\n",
    "root_dir, exp_dir"
   ]
  },
  {
   "cell_type": "code",
   "execution_count": 15,
   "metadata": {
    "Collapsed": "false"
   },
   "outputs": [
    {
     "data": {
      "text/plain": [
       "{'config': 'exp',\n",
       " 'logs': 'exp',\n",
       " 'results': 'exp',\n",
       " 'timings': 'exp',\n",
       " 'tmp': 'exp',\n",
       " 'exp': 'flow'}"
      ]
     },
     "execution_count": 15,
     "metadata": {},
     "output_type": "execute_result"
    }
   ],
   "source": [
    "exp_dir_02 = rename_directory(exp_dir, source=\"root\", target=\"exp\")\n",
    "exp_dir_02"
   ]
  },
  {
   "cell_type": "code",
   "execution_count": 16,
   "metadata": {
    "Collapsed": "false"
   },
   "outputs": [
    {
     "data": {
      "text/plain": [
       "'/home/zissou/repos/affe/scripts'"
      ]
     },
     "execution_count": 16,
     "metadata": {},
     "output_type": "execute_result"
    }
   ],
   "source": [
    "abspath(root_dir, \"scripts\")"
   ]
  },
  {
   "cell_type": "code",
   "execution_count": 17,
   "metadata": {
    "Collapsed": "false"
   },
   "outputs": [
    {
     "data": {
      "text/plain": [
       "{'root': '/home/zissou/repos/affe',\n",
       " 'cli': 'root',\n",
       " 'data': 'root',\n",
       " 'out': 'root',\n",
       " 'scripts': 'root',\n",
       " 'flow.config': 'flow',\n",
       " 'flow.logs': 'flow',\n",
       " 'flow.results': 'flow',\n",
       " 'flow.timings': 'flow',\n",
       " 'flow.tmp': 'flow',\n",
       " 'flow': 'root'}"
      ]
     },
     "execution_count": 17,
     "metadata": {},
     "output_type": "execute_result"
    }
   ],
   "source": [
    "my_fs = insert_subdirectory(root_dir, parent=\"root\", child=exp_dir,)\n",
    "my_fs"
   ]
  },
  {
   "cell_type": "code",
   "execution_count": 18,
   "metadata": {
    "Collapsed": "false"
   },
   "outputs": [
    {
     "data": {
      "text/plain": [
       "'/home/zissou/repos/affe/flow/config'"
      ]
     },
     "execution_count": 18,
     "metadata": {},
     "output_type": "execute_result"
    }
   ],
   "source": [
    "abspath(my_fs, \"flow.config\")"
   ]
  },
  {
   "cell_type": "markdown",
   "metadata": {
    "Collapsed": "false"
   },
   "source": [
    "## Test Filenames"
   ]
  },
  {
   "cell_type": "code",
   "execution_count": 19,
   "metadata": {
    "Collapsed": "false"
   },
   "outputs": [
    {
     "data": {
      "text/plain": [
       "'q-0010'"
      ]
     },
     "execution_count": 19,
     "metadata": {},
     "output_type": "execute_result"
    }
   ],
   "source": [
    "get_code_string(idx=10, kind=\"query\")"
   ]
  },
  {
   "cell_type": "code",
   "execution_count": 20,
   "metadata": {
    "Collapsed": "false"
   },
   "outputs": [
    {
     "data": {
      "text/plain": [
       "'better-timings-new-q-0003-system-b.csv'"
      ]
     },
     "execution_count": 20,
     "metadata": {},
     "output_type": "execute_result"
    }
   ],
   "source": [
    "get_filename(\n",
    "    basename=[\"timings\", \"new\"],\n",
    "    prefix=[\"better\"],\n",
    "    suffix=\"system-b\",\n",
    "    extension=\"csv\",\n",
    "    idx=3,\n",
    "    kind=\"query\",\n",
    ")"
   ]
  },
  {
   "cell_type": "markdown",
   "metadata": {
    "Collapsed": "false"
   },
   "source": [
    "lgtm"
   ]
  },
  {
   "cell_type": "code",
   "execution_count": 21,
   "metadata": {
    "Collapsed": "false"
   },
   "outputs": [
    {
     "data": {
      "text/plain": [
       "'mercs.pkl'"
      ]
     },
     "execution_count": 21,
     "metadata": {},
     "output_type": "execute_result"
    }
   ],
   "source": [
    "model_fname = partial(get_filename, extension=\"pkl\")\n",
    "model_fname(\"mercs\")"
   ]
  },
  {
   "cell_type": "code",
   "execution_count": 22,
   "metadata": {
    "Collapsed": "false"
   },
   "outputs": [
    {
     "data": {
      "text/plain": [
       "{'root': '/home/zissou/repos/affe',\n",
       " 'cli': 'root',\n",
       " 'data': 'root',\n",
       " 'out': 'root',\n",
       " 'scripts': 'root',\n",
       " 'flow.config': 'flow',\n",
       " 'flow.logs': 'flow',\n",
       " 'flow.results': 'flow',\n",
       " 'flow.timings': 'flow',\n",
       " 'flow.tmp': 'flow',\n",
       " 'flow': 'root'}"
      ]
     },
     "execution_count": 22,
     "metadata": {},
     "output_type": "execute_result"
    }
   ],
   "source": [
    "my_fs"
   ]
  },
  {
   "cell_type": "code",
   "execution_count": 23,
   "metadata": {
    "Collapsed": "false"
   },
   "outputs": [
    {
     "data": {
      "text/plain": [
       "'/home/zissou/repos/affe/flow/results/results-e-0003.csv'"
      ]
     },
     "execution_count": 23,
     "metadata": {},
     "output_type": "execute_result"
    }
   ],
   "source": [
    "get_filepath(\n",
    "    basename=\"results\",\n",
    "    extension=\"csv\",\n",
    "    kind=\"experiment\",\n",
    "    idx=3,\n",
    "    tree=my_fs,\n",
    "    node=\"flow.results\",\n",
    "    check_directory=False,\n",
    ")"
   ]
  },
  {
   "cell_type": "markdown",
   "metadata": {
    "Collapsed": "true"
   },
   "source": [
    "## Mimic FS"
   ]
  },
  {
   "cell_type": "code",
   "execution_count": 24,
   "metadata": {
    "Collapsed": "false"
   },
   "outputs": [
    {
     "data": {
      "text/plain": [
       "{'root': '/home/zissou/repos/affe',\n",
       " 'scripts': 'root',\n",
       " 'models': 'root',\n",
       " 'config': 'root',\n",
       " 'out.manual': 'out',\n",
       " 'out': 'root',\n",
       " 'data.step-01': 'data',\n",
       " 'data.raw': 'data',\n",
       " 'data': 'root'}"
      ]
     },
     "execution_count": 24,
     "metadata": {},
     "output_type": "execute_result"
    }
   ],
   "source": [
    "fs = mimic_fs(depth=2)\n",
    "fs"
   ]
  },
  {
   "cell_type": "markdown",
   "metadata": {
    "Collapsed": "true"
   },
   "source": [
    "## Directory insertion"
   ]
  },
  {
   "cell_type": "code",
   "execution_count": 25,
   "metadata": {
    "Collapsed": "false"
   },
   "outputs": [
    {
     "data": {
      "text/plain": [
       "{'root': '/home/zissou/repos/affe',\n",
       " 'scripts': 'root',\n",
       " 'models': 'root',\n",
       " 'config': 'root',\n",
       " 'out.manual': 'out',\n",
       " 'out': 'root',\n",
       " 'data.step-01': 'data',\n",
       " 'data.raw': 'data',\n",
       " 'data': 'root'}"
      ]
     },
     "execution_count": 25,
     "metadata": {},
     "output_type": "execute_result"
    }
   ],
   "source": [
    "fs = mimic_fs(depth=2)\n",
    "fs"
   ]
  },
  {
   "cell_type": "code",
   "execution_count": 26,
   "metadata": {
    "Collapsed": "false"
   },
   "outputs": [
    {
     "data": {
      "text/plain": [
       "{'root': '/home/zissou/repos/affe',\n",
       " 'scripts': 'root',\n",
       " 'models': 'root',\n",
       " 'config': 'root',\n",
       " 'out.manual': 'out',\n",
       " 'out': 'root',\n",
       " 'data.step-01': 'data',\n",
       " 'data.raw': 'data',\n",
       " 'data': 'root'}"
      ]
     },
     "execution_count": 26,
     "metadata": {},
     "output_type": "execute_result"
    }
   ],
   "source": [
    "fs = insert_subdirectory(fs, parent=\"root\", child=\"out\")\n",
    "fs"
   ]
  },
  {
   "cell_type": "code",
   "execution_count": 27,
   "metadata": {
    "Collapsed": "false"
   },
   "outputs": [
    {
     "data": {
      "text/plain": [
       "{'root': 'manual',\n",
       " 'config': 'root',\n",
       " 'logs': 'root',\n",
       " 'results': 'root',\n",
       " 'timings': 'root',\n",
       " 'tmp': 'root'}"
      ]
     },
     "execution_count": 27,
     "metadata": {},
     "output_type": "execute_result"
    }
   ],
   "source": [
    "flow_directory_tree = get_flow_directory(keyword=\"manual\")\n",
    "flow_directory_tree"
   ]
  },
  {
   "cell_type": "code",
   "execution_count": 28,
   "metadata": {
    "Collapsed": "false"
   },
   "outputs": [
    {
     "data": {
      "text/plain": [
       "{'root': '/home/zissou/repos/affe',\n",
       " 'scripts': 'root',\n",
       " 'models': 'root',\n",
       " 'config': 'root',\n",
       " 'out': 'root',\n",
       " 'data.step-01': 'data',\n",
       " 'data.raw': 'data',\n",
       " 'data': 'root',\n",
       " 'out.manual.config': 'out.manual',\n",
       " 'out.manual.logs': 'out.manual',\n",
       " 'out.manual.results': 'out.manual',\n",
       " 'out.manual.timings': 'out.manual',\n",
       " 'out.manual.tmp': 'out.manual',\n",
       " 'out.manual': 'out'}"
      ]
     },
     "execution_count": 28,
     "metadata": {},
     "output_type": "execute_result"
    }
   ],
   "source": [
    "fs = insert_subdirectory(fs, parent=\"out\", child=flow_directory_tree)\n",
    "fs"
   ]
  },
  {
   "cell_type": "code",
   "execution_count": 29,
   "metadata": {
    "Collapsed": "false"
   },
   "outputs": [
    {
     "data": {
      "text/plain": [
       "'/home/zissou/repos/affe/out/manual/config'"
      ]
     },
     "execution_count": 29,
     "metadata": {},
     "output_type": "execute_result"
    }
   ],
   "source": [
    "abspath(fs, \"out.manual.config\")"
   ]
  },
  {
   "cell_type": "markdown",
   "metadata": {
    "Collapsed": "false"
   },
   "source": [
    "# Notepad\n",
    "\n",
    "Random snippets and tryouts"
   ]
  },
  {
   "cell_type": "code",
   "execution_count": 30,
   "metadata": {
    "Collapsed": "false"
   },
   "outputs": [
    {
     "data": {
      "text/plain": [
       "'q-0010'"
      ]
     },
     "execution_count": 30,
     "metadata": {},
     "output_type": "execute_result"
    }
   ],
   "source": [
    "get_code_string(idx=10, kind=\"query\")"
   ]
  }
 ],
 "metadata": {
  "kernelspec": {
   "display_name": "affe",
   "language": "python",
   "name": "affe"
  },
  "language_info": {
   "codemirror_mode": {
    "name": "ipython",
    "version": 3
   },
   "file_extension": ".py",
   "mimetype": "text/x-python",
   "name": "python",
   "nbconvert_exporter": "python",
   "pygments_lexer": "ipython3",
   "version": "3.8.1"
  },
  "toc-autonumbering": true
 },
 "nbformat": 4,
 "nbformat_minor": 4
}
