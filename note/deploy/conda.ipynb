{
 "cells": [
  {
   "cell_type": "markdown",
   "metadata": {
    "Collapsed": "false"
   },
   "source": [
    "# Conda Environments"
   ]
  },
  {
   "cell_type": "markdown",
   "metadata": {
    "Collapsed": "false"
   },
   "source": [
    "## Imports"
   ]
  },
  {
   "cell_type": "code",
   "execution_count": 1,
   "metadata": {
    "Collapsed": "false"
   },
   "outputs": [],
   "source": [
    "import os\n",
    "from os.path import dirname"
   ]
  },
  {
   "cell_type": "markdown",
   "metadata": {
    "Collapsed": "false"
   },
   "source": [
    "## Initialization\n",
    "\n",
    "Some important variables to be used afterwards."
   ]
  },
  {
   "cell_type": "code",
   "execution_count": 2,
   "metadata": {
    "Collapsed": "false"
   },
   "outputs": [],
   "source": [
    "name = \"affe\"\n",
    "\n",
    "root_dir = dirname(dirname(os.getcwd()))\n",
    "\n",
    "fn_conda_dep = 'dependencies-deploy.yaml'\n",
    "fn_conda_dev = 'dependencies-develop.yaml'"
   ]
  },
  {
   "cell_type": "markdown",
   "metadata": {
    "Collapsed": "false"
   },
   "source": [
    "# Introduction\n",
    "\n",
    "This cookiecutter is set up for optimal use with conda, for local dependency managment. The takeaway is this; for local dependency managment, we rely on conda and nothing else.\n",
    "\n",
    "Note that this has nothing to do with remote dependency managment. This is what you need to take care of when preparing a release of your code which goes via PyPi or alternatives. We treat that as an independent problem. Mixing remote and local dependency managment tends to add complexity instead of removing it."
   ]
  },
  {
   "cell_type": "markdown",
   "metadata": {
    "Collapsed": "false"
   },
   "source": [
    "# Workflow\n",
    "\n",
    "We distinguish between `deployment` and `development` environments. Of course, in research this is not always that useful or clear. We follow this rule of thumb:\n",
    "\n",
    "```\n",
    "Everything that should end up in pip release, goes in deployment\n",
    "```\n",
    "\n",
    "Which still justifies keeping the two separated."
   ]
  },
  {
   "cell_type": "markdown",
   "metadata": {
    "Collapsed": "false"
   },
   "source": [
    "## Deployment Environment\n",
    "\n",
    "This environment is whatever an end user may need in order to use your package.\n"
   ]
  },
  {
   "cell_type": "code",
   "execution_count": 3,
   "metadata": {
    "Collapsed": "false"
   },
   "outputs": [
    {
     "name": "stdout",
     "output_type": "stream",
     "text": [
      "# conda environments:\n",
      "#\n",
      "base                  *  /home/zissou/miniconda3\n",
      "aleph                    /home/zissou/miniconda3/envs/aleph\n",
      "anomamercs               /home/zissou/miniconda3/envs/anomamercs\n",
      "mercs-miss               /home/zissou/miniconda3/envs/mercs-miss\n",
      "pythonweka               /home/zissou/miniconda3/envs/pythonweka\n",
      "sandboxes                /home/zissou/miniconda3/envs/sandboxes\n",
      "synth-demo               /home/zissou/miniconda3/envs/synth-demo\n",
      "testmercspip             /home/zissou/miniconda3/envs/testmercspip\n",
      "\n"
     ]
    }
   ],
   "source": [
    "%%bash -s \"$name\" \"$root_dir\" \"$fn_conda_dep\"\n",
    "\n",
    "source ~/.bashrc\n",
    "\n",
    "conda env list"
   ]
  },
  {
   "cell_type": "code",
   "execution_count": 4,
   "metadata": {
    "Collapsed": "false"
   },
   "outputs": [
    {
     "name": "stdout",
     "output_type": "stream",
     "text": [
      "Collecting package metadata (repodata.json): ...working... done\n",
      "Solving environment: ...working... done\n",
      "Preparing transaction: ...working... done\n",
      "Verifying transaction: ...working... done\n",
      "Executing transaction: ...working... done\n",
      "#\n",
      "# To activate this environment, use\n",
      "#\n",
      "#     $ conda activate affe\n",
      "#\n",
      "# To deactivate an active environment, use\n",
      "#\n",
      "#     $ conda deactivate\n",
      "\n"
     ]
    }
   ],
   "source": [
    "%%bash -s \"$name\" \"$root_dir\" \"$fn_conda_dep\"\n",
    "\n",
    "source ~/.bashrc\n",
    "\n",
    "cd $2\n",
    "\n",
    "conda env create -f $3 -n $1"
   ]
  },
  {
   "cell_type": "markdown",
   "metadata": {
    "Collapsed": "false"
   },
   "source": [
    "## Development environment\n"
   ]
  },
  {
   "cell_type": "code",
   "execution_count": 5,
   "metadata": {
    "Collapsed": "false"
   },
   "outputs": [
    {
     "name": "stdout",
     "output_type": "stream",
     "text": [
      "Warning: you have pip-installed dependencies in your environment file, but you do not list pip itself as one of your conda dependencies.  Conda may not use the correct pip to install your packages, and they may end up in the wrong place.  Please add an explicit pip dependency.  I'm adding one for you, but still nagging you.\n",
      "Collecting package metadata (repodata.json): ...working... done\n",
      "Solving environment: ...working... done\n",
      "Preparing transaction: ...working... done\n",
      "Verifying transaction: ...working... done\n",
      "Executing transaction: ...working... done\n",
      "Ran pip subprocess with arguments:\n",
      "['/home/zissou/miniconda3/envs/affe/bin/python', '-m', 'pip', 'install', '-U', '-r', '/home/zissou/repos/affe/condaenv.nkhayjdn.requirements.txt']\n",
      "Pip subprocess output:\n",
      "Collecting semantic-version\n",
      "  Using cached semantic_version-2.8.4-py2.py3-none-any.whl (15 kB)\n",
      "Processing /home/zissou/.cache/pip/wheels/86/bd/78/7c623bc57d31eb3f8fc8480c0924e8f09974175f16bb745f7b/mkdocs_minify_plugin-0.2.3-py3-none-any.whl\n",
      "Collecting pymdown-extensions\n",
      "  Using cached pymdown_extensions-6.3-py2.py3-none-any.whl (198 kB)\n",
      "Processing /home/zissou/.cache/pip/wheels/65/b7/04/fc4b059d177fd88f3ca362ad372a15e364b0c5433121c7b135/jsmin-2.2.2-py3-none-any.whl\n",
      "Requirement already satisfied, skipping upgrade: mkdocs>=1.0.4 in /home/zissou/miniconda3/envs/affe/lib/python3.8/site-packages (from mkdocs-minify-plugin->-r /home/zissou/repos/affe/condaenv.nkhayjdn.requirements.txt (line 2)) (1.1)\n",
      "Processing /home/zissou/.cache/pip/wheels/23/14/6e/4be5bfeeb027f4939a01764b48edd5996acf574b0913fe5243/htmlmin-0.1.12-py3-none-any.whl\n",
      "Requirement already satisfied, skipping upgrade: Markdown>=3.2 in /home/zissou/miniconda3/envs/affe/lib/python3.8/site-packages (from pymdown-extensions->-r /home/zissou/repos/affe/condaenv.nkhayjdn.requirements.txt (line 3)) (3.2.1)\n",
      "Requirement already satisfied, skipping upgrade: lunr[languages]==0.5.6 in /home/zissou/miniconda3/envs/affe/lib/python3.8/site-packages (from mkdocs>=1.0.4->mkdocs-minify-plugin->-r /home/zissou/repos/affe/condaenv.nkhayjdn.requirements.txt (line 2)) (0.5.6)\n",
      "Requirement already satisfied, skipping upgrade: Jinja2>=2.10.1 in /home/zissou/miniconda3/envs/affe/lib/python3.8/site-packages (from mkdocs>=1.0.4->mkdocs-minify-plugin->-r /home/zissou/repos/affe/condaenv.nkhayjdn.requirements.txt (line 2)) (2.11.1)\n",
      "Requirement already satisfied, skipping upgrade: livereload>=2.5.1 in /home/zissou/miniconda3/envs/affe/lib/python3.8/site-packages (from mkdocs>=1.0.4->mkdocs-minify-plugin->-r /home/zissou/repos/affe/condaenv.nkhayjdn.requirements.txt (line 2)) (2.6.1)\n",
      "Requirement already satisfied, skipping upgrade: tornado>=5.0 in /home/zissou/miniconda3/envs/affe/lib/python3.8/site-packages (from mkdocs>=1.0.4->mkdocs-minify-plugin->-r /home/zissou/repos/affe/condaenv.nkhayjdn.requirements.txt (line 2)) (6.0.3)\n",
      "Requirement already satisfied, skipping upgrade: click>=3.3 in /home/zissou/miniconda3/envs/affe/lib/python3.8/site-packages (from mkdocs>=1.0.4->mkdocs-minify-plugin->-r /home/zissou/repos/affe/condaenv.nkhayjdn.requirements.txt (line 2)) (7.0)\n",
      "Requirement already satisfied, skipping upgrade: PyYAML>=3.10 in /home/zissou/miniconda3/envs/affe/lib/python3.8/site-packages (from mkdocs>=1.0.4->mkdocs-minify-plugin->-r /home/zissou/repos/affe/condaenv.nkhayjdn.requirements.txt (line 2)) (5.3)\n",
      "Requirement already satisfied, skipping upgrade: setuptools>=36 in /home/zissou/miniconda3/envs/affe/lib/python3.8/site-packages (from Markdown>=3.2->pymdown-extensions->-r /home/zissou/repos/affe/condaenv.nkhayjdn.requirements.txt (line 3)) (45.2.0.post20200210)\n",
      "Requirement already satisfied, skipping upgrade: six>=1.11.0 in /home/zissou/miniconda3/envs/affe/lib/python3.8/site-packages (from lunr[languages]==0.5.6->mkdocs>=1.0.4->mkdocs-minify-plugin->-r /home/zissou/repos/affe/condaenv.nkhayjdn.requirements.txt (line 2)) (1.14.0)\n",
      "Requirement already satisfied, skipping upgrade: future>=0.16.0 in /home/zissou/miniconda3/envs/affe/lib/python3.8/site-packages (from lunr[languages]==0.5.6->mkdocs>=1.0.4->mkdocs-minify-plugin->-r /home/zissou/repos/affe/condaenv.nkhayjdn.requirements.txt (line 2)) (0.18.2)\n",
      "Requirement already satisfied, skipping upgrade: nltk>=3.2.5; extra == \"languages\" in /home/zissou/miniconda3/envs/affe/lib/python3.8/site-packages (from lunr[languages]==0.5.6->mkdocs>=1.0.4->mkdocs-minify-plugin->-r /home/zissou/repos/affe/condaenv.nkhayjdn.requirements.txt (line 2)) (3.4.5)\n",
      "Requirement already satisfied, skipping upgrade: MarkupSafe>=0.23 in /home/zissou/miniconda3/envs/affe/lib/python3.8/site-packages (from Jinja2>=2.10.1->mkdocs>=1.0.4->mkdocs-minify-plugin->-r /home/zissou/repos/affe/condaenv.nkhayjdn.requirements.txt (line 2)) (1.1.1)\n",
      "Installing collected packages: semantic-version, jsmin, htmlmin, mkdocs-minify-plugin, pymdown-extensions\n",
      "  Attempting uninstall: pymdown-extensions\n",
      "    Found existing installation: pymdown-extensions 6.0\n",
      "    Uninstalling pymdown-extensions-6.0:\n",
      "      Successfully uninstalled pymdown-extensions-6.0\n",
      "Successfully installed htmlmin-0.1.12 jsmin-2.2.2 mkdocs-minify-plugin-0.2.3 pymdown-extensions-6.3 semantic-version-2.8.4\n",
      "\n",
      "#\n",
      "# To activate this environment, use\n",
      "#\n",
      "#     $ conda activate affe\n",
      "#\n",
      "# To deactivate an active environment, use\n",
      "#\n",
      "#     $ conda deactivate\n",
      "\n"
     ]
    },
    {
     "name": "stderr",
     "output_type": "stream",
     "text": [
      "\n",
      "CommandNotFoundError: Your shell has not been properly configured to use 'conda activate'.\n",
      "To initialize your shell, run\n",
      "\n",
      "    $ conda init <SHELL_NAME>\n",
      "\n",
      "Currently supported shells are:\n",
      "  - bash\n",
      "  - fish\n",
      "  - tcsh\n",
      "  - xonsh\n",
      "  - zsh\n",
      "  - powershell\n",
      "\n",
      "See 'conda init --help' for more information and options.\n",
      "\n",
      "IMPORTANT: You may need to close and restart your shell after running 'conda init'.\n",
      "\n",
      "\n"
     ]
    }
   ],
   "source": [
    "%%bash -s \"$name\" \"$root_dir\" \"$fn_conda_dev\"\n",
    "\n",
    "source ~/.bashrc\n",
    "\n",
    "cd $2\n",
    "\n",
    "conda activate $1\n",
    "\n",
    "conda env update -n $1 -f $3"
   ]
  },
  {
   "cell_type": "markdown",
   "metadata": {
    "Collapsed": "false"
   },
   "source": [
    "## Jupyter kernel\n",
    "\n",
    "Expose the environment to your jupyter."
   ]
  },
  {
   "cell_type": "code",
   "execution_count": 6,
   "metadata": {
    "Collapsed": "false"
   },
   "outputs": [
    {
     "name": "stdout",
     "output_type": "stream",
     "text": [
      "Installed kernelspec affe in /home/zissou/.local/share/jupyter/kernels/affe\n"
     ]
    },
    {
     "name": "stderr",
     "output_type": "stream",
     "text": [
      "\n",
      "CommandNotFoundError: Your shell has not been properly configured to use 'conda activate'.\n",
      "To initialize your shell, run\n",
      "\n",
      "    $ conda init <SHELL_NAME>\n",
      "\n",
      "Currently supported shells are:\n",
      "  - bash\n",
      "  - fish\n",
      "  - tcsh\n",
      "  - xonsh\n",
      "  - zsh\n",
      "  - powershell\n",
      "\n",
      "See 'conda init --help' for more information and options.\n",
      "\n",
      "IMPORTANT: You may need to close and restart your shell after running 'conda init'.\n",
      "\n",
      "\n"
     ]
    }
   ],
   "source": [
    "%%bash -s \"$name\" \"$root_dir\" \"$fn_conda_dep\"\n",
    "\n",
    "source ~/.bashrc\n",
    "\n",
    "cd $2\n",
    "\n",
    "conda activate $1\n",
    "python -m ipykernel install --user --name $1 --display-name \"$1\""
   ]
  }
 ],
 "metadata": {
  "kernelspec": {
   "display_name": "aaai20-frost",
   "language": "python",
   "name": "aaai20-frost"
  },
  "language_info": {
   "codemirror_mode": {
    "name": "ipython",
    "version": 3
   },
   "file_extension": ".py",
   "mimetype": "text/x-python",
   "name": "python",
   "nbconvert_exporter": "python",
   "pygments_lexer": "ipython3",
   "version": "3.6.9"
  },
  "toc-autonumbering": true
 },
 "nbformat": 4,
 "nbformat_minor": 4
}
