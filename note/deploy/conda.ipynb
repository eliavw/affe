{
 "cells": [
  {
   "cell_type": "markdown",
   "metadata": {
    "Collapsed": "false"
   },
   "source": [
    "# Conda Environments"
   ]
  },
  {
   "cell_type": "markdown",
   "metadata": {
    "Collapsed": "false"
   },
   "source": [
    "## Imports"
   ]
  },
  {
   "cell_type": "code",
   "execution_count": 1,
   "metadata": {
    "Collapsed": "false"
   },
   "outputs": [],
   "source": [
    "import os\n",
    "from os.path import dirname"
   ]
  },
  {
   "cell_type": "markdown",
   "metadata": {
    "Collapsed": "false"
   },
   "source": [
    "## Initialization\n",
    "\n",
    "Some important variables to be used afterwards."
   ]
  },
  {
   "cell_type": "code",
   "execution_count": 2,
   "metadata": {
    "Collapsed": "false"
   },
   "outputs": [],
   "source": [
    "name = \"affe\"\n",
    "\n",
    "root_dir = dirname(dirname(os.getcwd()))\n",
    "\n",
    "fn_conda_dep = 'dependencies-deploy.yaml'\n",
    "fn_conda_dev = 'dependencies-develop.yaml'"
   ]
  },
  {
   "cell_type": "markdown",
   "metadata": {
    "Collapsed": "false"
   },
   "source": [
    "# Introduction\n",
    "\n",
    "This cookiecutter is set up for optimal use with conda, for local dependency managment. The takeaway is this; for local dependency managment, we rely on conda and nothing else.\n",
    "\n",
    "Note that this has nothing to do with remote dependency managment. This is what you need to take care of when preparing a release of your code which goes via PyPi or alternatives. We treat that as an independent problem. Mixing remote and local dependency managment tends to add complexity instead of removing it."
   ]
  },
  {
   "cell_type": "markdown",
   "metadata": {
    "Collapsed": "false"
   },
   "source": [
    "# Workflow\n",
    "\n",
    "We distinguish between `deployment` and `development` environments. Of course, in research this is not always that useful or clear. We follow this rule of thumb:\n",
    "\n",
    "```\n",
    "Everything that should end up in pip release, goes in deployment\n",
    "```\n",
    "\n",
    "Which still justifies keeping the two separated."
   ]
  },
  {
   "cell_type": "markdown",
   "metadata": {
    "Collapsed": "false"
   },
   "source": [
    "## Deployment Environment\n",
    "\n",
    "This environment is whatever an end user may need in order to use your package.\n"
   ]
  },
  {
   "cell_type": "code",
   "execution_count": 3,
   "metadata": {
    "Collapsed": "false"
   },
   "outputs": [
    {
     "name": "stdout",
     "output_type": "stream",
     "text": [
      "# conda environments:\n",
      "#\n",
      "                         /cw/dtaijupiter/NoCsBack/dtai/elia/miniconda\n",
      "                         /cw/dtaijupiter/NoCsBack/dtai/elia/miniconda/envs/dummynator\n",
      "                         /cw/dtaijupiter/NoCsBack/dtai/elia/miniconda/envs/mercs\n",
      "                         /cw/dtaijupiter/NoCsBack/dtai/elia/miniconda/envs/mercs-miss\n",
      "                         /cw/dtaijupiter/NoCsBack/dtai/elia/miniconda/envs/rwrf\n",
      "base                  *  /home/elia/miniconda3\n",
      "PxW                      /home/elia/miniconda3/envs/PxW\n",
      "aaai20                   /home/elia/miniconda3/envs/aaai20\n",
      "anomamercs               /home/elia/miniconda3/envs/anomamercs\n",
      "cython-demo              /home/elia/miniconda3/envs/cython-demo\n",
      "mercs                    /home/elia/miniconda3/envs/mercs\n",
      "mercs-miss               /home/elia/miniconda3/envs/mercs-miss\n",
      "modulo                   /home/elia/miniconda3/envs/modulo\n",
      "rwrf                     /home/elia/miniconda3/envs/rwrf\n",
      "synth                    /home/elia/miniconda3/envs/synth\n",
      "\n"
     ]
    }
   ],
   "source": [
    "%%bash -s \"$name\" \"$root_dir\" \"$fn_conda_dep\"\n",
    "\n",
    "source ~/.bashrc\n",
    "\n",
    "conda env list"
   ]
  },
  {
   "cell_type": "code",
   "execution_count": 4,
   "metadata": {
    "Collapsed": "false"
   },
   "outputs": [
    {
     "name": "stdout",
     "output_type": "stream",
     "text": [
      "Collecting package metadata (repodata.json): ...working... done\n",
      "Solving environment: ...working... done\n",
      "\n",
      "Downloading and Extracting Packages\n",
      "pandas-1.0.1         | 8.8 MB    | ########## | 100% \n",
      "setuptools-45.2.0    | 524 KB    | ########## | 100% \n",
      "parso-0.6.1          | 69 KB     | ########## | 100% \n",
      "ncurses-6.2          | 1.1 MB    | ########## | 100% \n",
      "openssl-1.1.1d       | 2.5 MB    | ########## | 100% \n",
      "tornado-6.0.3        | 586 KB    | ########## | 100% \n",
      "Preparing transaction: ...working... done\n",
      "Verifying transaction: ...working... done\n",
      "Executing transaction: ...working... done\n",
      "#\n",
      "# To activate this environment, use\n",
      "#\n",
      "#     $ conda activate affe\n",
      "#\n",
      "# To deactivate an active environment, use\n",
      "#\n",
      "#     $ conda deactivate\n",
      "\n"
     ]
    },
    {
     "name": "stderr",
     "output_type": "stream",
     "text": [
      "\n",
      "\n",
      "==> WARNING: A newer version of conda exists. <==\n",
      "  current version: 4.7.12\n",
      "  latest version: 4.8.2\n",
      "\n",
      "Please update conda by running\n",
      "\n",
      "    $ conda update -n base -c defaults conda\n",
      "\n",
      "\n"
     ]
    }
   ],
   "source": [
    "%%bash -s \"$name\" \"$root_dir\" \"$fn_conda_dep\"\n",
    "\n",
    "source ~/.bashrc\n",
    "\n",
    "cd $2\n",
    "\n",
    "conda env create -f $3 -n $1"
   ]
  },
  {
   "cell_type": "markdown",
   "metadata": {
    "Collapsed": "false"
   },
   "source": [
    "## Development environment\n"
   ]
  },
  {
   "cell_type": "code",
   "execution_count": 5,
   "metadata": {
    "Collapsed": "false"
   },
   "outputs": [
    {
     "name": "stdout",
     "output_type": "stream",
     "text": [
      "Warning: you have pip-installed dependencies in your environment file, but you do not list pip itself as one of your conda dependencies.  Conda may not use the correct pip to install your packages, and they may end up in the wrong place.  Please add an explicit pip dependency.  I'm adding one for you, but still nagging you.\n",
      "Collecting package metadata (repodata.json): ...working... done\n",
      "Solving environment: ...working... done\n",
      "\n",
      "Downloading and Extracting Packages\n",
      "markdown-3.2.1       | 61 KB     | ########## | 100% \n",
      "lunr-0.5.6           | 1.0 MB    | ########## | 100% \n",
      "json5-0.9.1          | 26 KB     | ########## | 100% \n",
      "mkdocs-1.1           | 5.7 MB    | ########## | 100% \n",
      "nltk-3.4.5           | 1.7 MB    | ########## | 100% \n",
      "zipp-2.2.0           | 12 KB     | ########## | 100% \n",
      "future-0.18.2        | 642 KB    | ########## | 100% \n",
      "Preparing transaction: ...working... done\n",
      "Verifying transaction: ...working... done\n",
      "Executing transaction: ...working... done\n",
      "Ran pip subprocess with arguments:\n",
      "['/home/elia/miniconda3/envs/affe/bin/python', '-m', 'pip', 'install', '-U', '-r', '/cw/dtailocal/repos/affe/condaenv.ohw81ezo.requirements.txt']\n",
      "Pip subprocess output:\n",
      "Collecting semantic-version\n",
      "  Using cached semantic_version-2.8.4-py2.py3-none-any.whl (15 kB)\n",
      "Processing /cw/dtailocal/SymLinks/cache/pip/wheels/86/bd/78/7c623bc57d31eb3f8fc8480c0924e8f09974175f16bb745f7b/mkdocs_minify_plugin-0.2.3-py3-none-any.whl\n",
      "Collecting pymdown-extensions\n",
      "  Using cached pymdown_extensions-6.3-py2.py3-none-any.whl (198 kB)\n",
      "Requirement already satisfied, skipping upgrade: mkdocs>=1.0.4 in /cw/dtailocal/SymLinks/miniconda3/envs/affe/lib/python3.8/site-packages (from mkdocs-minify-plugin->-r /cw/dtailocal/repos/affe/condaenv.ohw81ezo.requirements.txt (line 2)) (1.1)\n",
      "Processing /cw/dtailocal/SymLinks/cache/pip/wheels/64/f4/de/9667d84f759289edf5442220997c6d4334637a6bb2a7b90f73/jsmin-2.2.2-cp38-none-any.whl\n",
      "Processing /cw/dtailocal/SymLinks/cache/pip/wheels/43/07/ac/7c5a9d708d65247ac1f94066cf1db075540b85716c30255459/htmlmin-0.1.12-cp38-none-any.whl\n",
      "Requirement already satisfied, skipping upgrade: Markdown>=3.2 in /cw/dtailocal/SymLinks/miniconda3/envs/affe/lib/python3.8/site-packages (from pymdown-extensions->-r /cw/dtailocal/repos/affe/condaenv.ohw81ezo.requirements.txt (line 3)) (3.2.1)\n",
      "Requirement already satisfied, skipping upgrade: PyYAML>=3.10 in /cw/dtailocal/SymLinks/miniconda3/envs/affe/lib/python3.8/site-packages (from mkdocs>=1.0.4->mkdocs-minify-plugin->-r /cw/dtailocal/repos/affe/condaenv.ohw81ezo.requirements.txt (line 2)) (5.3)\n",
      "Requirement already satisfied, skipping upgrade: livereload>=2.5.1 in /cw/dtailocal/SymLinks/miniconda3/envs/affe/lib/python3.8/site-packages (from mkdocs>=1.0.4->mkdocs-minify-plugin->-r /cw/dtailocal/repos/affe/condaenv.ohw81ezo.requirements.txt (line 2)) (2.6.1)\n",
      "Requirement already satisfied, skipping upgrade: click>=3.3 in /cw/dtailocal/SymLinks/miniconda3/envs/affe/lib/python3.8/site-packages (from mkdocs>=1.0.4->mkdocs-minify-plugin->-r /cw/dtailocal/repos/affe/condaenv.ohw81ezo.requirements.txt (line 2)) (7.0)\n",
      "Requirement already satisfied, skipping upgrade: tornado>=5.0 in /cw/dtailocal/SymLinks/miniconda3/envs/affe/lib/python3.8/site-packages (from mkdocs>=1.0.4->mkdocs-minify-plugin->-r /cw/dtailocal/repos/affe/condaenv.ohw81ezo.requirements.txt (line 2)) (6.0.3)\n",
      "Requirement already satisfied, skipping upgrade: Jinja2>=2.10.1 in /cw/dtailocal/SymLinks/miniconda3/envs/affe/lib/python3.8/site-packages (from mkdocs>=1.0.4->mkdocs-minify-plugin->-r /cw/dtailocal/repos/affe/condaenv.ohw81ezo.requirements.txt (line 2)) (2.11.1)\n",
      "Requirement already satisfied, skipping upgrade: lunr[languages]==0.5.6 in /cw/dtailocal/SymLinks/miniconda3/envs/affe/lib/python3.8/site-packages (from mkdocs>=1.0.4->mkdocs-minify-plugin->-r /cw/dtailocal/repos/affe/condaenv.ohw81ezo.requirements.txt (line 2)) (0.5.6)\n",
      "Requirement already satisfied, skipping upgrade: setuptools>=36 in /cw/dtailocal/SymLinks/miniconda3/envs/affe/lib/python3.8/site-packages (from Markdown>=3.2->pymdown-extensions->-r /cw/dtailocal/repos/affe/condaenv.ohw81ezo.requirements.txt (line 3)) (45.2.0.post20200210)\n",
      "Requirement already satisfied, skipping upgrade: six in /cw/dtailocal/SymLinks/miniconda3/envs/affe/lib/python3.8/site-packages (from livereload>=2.5.1->mkdocs>=1.0.4->mkdocs-minify-plugin->-r /cw/dtailocal/repos/affe/condaenv.ohw81ezo.requirements.txt (line 2)) (1.14.0)\n",
      "Requirement already satisfied, skipping upgrade: MarkupSafe>=0.23 in /cw/dtailocal/SymLinks/miniconda3/envs/affe/lib/python3.8/site-packages (from Jinja2>=2.10.1->mkdocs>=1.0.4->mkdocs-minify-plugin->-r /cw/dtailocal/repos/affe/condaenv.ohw81ezo.requirements.txt (line 2)) (1.1.1)\n",
      "Requirement already satisfied, skipping upgrade: future>=0.16.0 in /cw/dtailocal/SymLinks/miniconda3/envs/affe/lib/python3.8/site-packages (from lunr[languages]==0.5.6->mkdocs>=1.0.4->mkdocs-minify-plugin->-r /cw/dtailocal/repos/affe/condaenv.ohw81ezo.requirements.txt (line 2)) (0.18.2)\n",
      "Requirement already satisfied, skipping upgrade: nltk>=3.2.5; extra == \"languages\" in /cw/dtailocal/SymLinks/miniconda3/envs/affe/lib/python3.8/site-packages (from lunr[languages]==0.5.6->mkdocs>=1.0.4->mkdocs-minify-plugin->-r /cw/dtailocal/repos/affe/condaenv.ohw81ezo.requirements.txt (line 2)) (3.4.5)\n",
      "Installing collected packages: semantic-version, jsmin, htmlmin, mkdocs-minify-plugin, pymdown-extensions\n",
      "  Attempting uninstall: pymdown-extensions\n",
      "    Found existing installation: pymdown-extensions 6.0\n",
      "    Uninstalling pymdown-extensions-6.0:\n",
      "      Successfully uninstalled pymdown-extensions-6.0\n",
      "Successfully installed htmlmin-0.1.12 jsmin-2.2.2 mkdocs-minify-plugin-0.2.3 pymdown-extensions-6.3 semantic-version-2.8.4\n",
      "\n",
      "#\n",
      "# To activate this environment, use\n",
      "#\n",
      "#     $ conda activate affe\n",
      "#\n",
      "# To deactivate an active environment, use\n",
      "#\n",
      "#     $ conda deactivate\n",
      "\n"
     ]
    },
    {
     "name": "stderr",
     "output_type": "stream",
     "text": [
      "\n",
      "\n",
      "==> WARNING: A newer version of conda exists. <==\n",
      "  current version: 4.7.12\n",
      "  latest version: 4.8.2\n",
      "\n",
      "Please update conda by running\n",
      "\n",
      "    $ conda update -n base -c defaults conda\n",
      "\n",
      "\n"
     ]
    }
   ],
   "source": [
    "%%bash -s \"$name\" \"$root_dir\" \"$fn_conda_dev\"\n",
    "\n",
    "source ~/.bashrc\n",
    "\n",
    "cd $2\n",
    "\n",
    "conda activate $1\n",
    "\n",
    "conda env update -n $1 -f $3"
   ]
  },
  {
   "cell_type": "markdown",
   "metadata": {
    "Collapsed": "false"
   },
   "source": [
    "## Jupyter kernel\n",
    "\n",
    "Expose the environment to your jupyter."
   ]
  },
  {
   "cell_type": "code",
   "execution_count": 6,
   "metadata": {
    "Collapsed": "false"
   },
   "outputs": [
    {
     "name": "stdout",
     "output_type": "stream",
     "text": [
      "Installed kernelspec affe in /home/elia/.local/share/jupyter/kernels/affe\n"
     ]
    }
   ],
   "source": [
    "%%bash -s \"$name\" \"$root_dir\" \"$fn_conda_dep\"\n",
    "\n",
    "source ~/.bashrc\n",
    "\n",
    "cd $2\n",
    "\n",
    "conda activate $1\n",
    "python -m ipykernel install --user --name $1 --display-name \"$1\""
   ]
  }
 ],
 "metadata": {
  "kernelspec": {
   "display_name": "j-rwrf",
   "language": "python",
   "name": "j-rwrf"
  },
  "language_info": {
   "codemirror_mode": {
    "name": "ipython",
    "version": 3
   },
   "file_extension": ".py",
   "mimetype": "text/x-python",
   "name": "python",
   "nbconvert_exporter": "python",
   "pygments_lexer": "ipython3",
   "version": "3.7.5"
  },
  "toc-autonumbering": true
 },
 "nbformat": 4,
 "nbformat_minor": 4
}
